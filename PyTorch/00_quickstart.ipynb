{
  "nbformat": 4,
  "nbformat_minor": 0,
  "metadata": {
    "colab": {
      "provenance": [],
      "machine_shape": "hm",
      "gpuType": "T4",
      "authorship_tag": "ABX9TyN7bmxX4I6aZaADtNIVjh0W",
      "include_colab_link": true
    },
    "kernelspec": {
      "name": "python3",
      "display_name": "Python 3"
    },
    "language_info": {
      "name": "python"
    },
    "accelerator": "GPU"
  },
  "cells": [
    {
      "cell_type": "markdown",
      "metadata": {
        "id": "view-in-github",
        "colab_type": "text"
      },
      "source": [
        "<a href=\"https://colab.research.google.com/github/GiliardGodoi/learning/blob/main/PyTorch/00_quickstart.ipynb\" target=\"_parent\"><img src=\"https://colab.research.google.com/assets/colab-badge.svg\" alt=\"Open In Colab\"/></a>"
      ]
    },
    {
      "cell_type": "markdown",
      "source": [
        "# Quickstart\n",
        "\n",
        "Referências:\n",
        "1. <https://pytorch.org/tutorials/beginner/basics/quickstart_tutorial.html>\n",
        "2. <https://pytorch.org/tutorials/beginner/basics/data_tutorial.html>"
      ],
      "metadata": {
        "id": "0lUHHtqWvvCQ"
      }
    },
    {
      "cell_type": "code",
      "source": [
        "from matplotlib import pyplot as plt"
      ],
      "metadata": {
        "id": "Z8ak07viwCgE"
      },
      "execution_count": 1,
      "outputs": []
    },
    {
      "cell_type": "code",
      "execution_count": 2,
      "metadata": {
        "id": "ljMtp6H_tnbj"
      },
      "outputs": [],
      "source": [
        "import torch\n",
        "from torch import nn\n",
        "from torch.utils.data import DataLoader\n",
        "from torchvision import datasets\n",
        "from torchvision.transforms import ToTensor"
      ]
    },
    {
      "cell_type": "code",
      "source": [
        "training_data = datasets.FashionMNIST(\n",
        "    root='data',\n",
        "    train=True,\n",
        "    download=True,\n",
        "    transform=ToTensor()\n",
        ")\n",
        "\n",
        "test_data = datasets.FashionMNIST(\n",
        "    root='data',\n",
        "    train=False,\n",
        "    download=True,\n",
        "    transform=ToTensor()\n",
        ")"
      ],
      "metadata": {
        "colab": {
          "base_uri": "https://localhost:8080/"
        },
        "id": "DvqwJEQYuLIx",
        "outputId": "2477ddbf-7e77-4da8-adf1-9332105b3afd"
      },
      "execution_count": 3,
      "outputs": [
        {
          "output_type": "stream",
          "name": "stdout",
          "text": [
            "Downloading http://fashion-mnist.s3-website.eu-central-1.amazonaws.com/train-images-idx3-ubyte.gz\n",
            "Downloading http://fashion-mnist.s3-website.eu-central-1.amazonaws.com/train-images-idx3-ubyte.gz to data/FashionMNIST/raw/train-images-idx3-ubyte.gz\n"
          ]
        },
        {
          "output_type": "stream",
          "name": "stderr",
          "text": [
            "100%|██████████| 26421880/26421880 [00:02<00:00, 8959187.62it/s] \n"
          ]
        },
        {
          "output_type": "stream",
          "name": "stdout",
          "text": [
            "Extracting data/FashionMNIST/raw/train-images-idx3-ubyte.gz to data/FashionMNIST/raw\n",
            "\n",
            "Downloading http://fashion-mnist.s3-website.eu-central-1.amazonaws.com/train-labels-idx1-ubyte.gz\n",
            "Downloading http://fashion-mnist.s3-website.eu-central-1.amazonaws.com/train-labels-idx1-ubyte.gz to data/FashionMNIST/raw/train-labels-idx1-ubyte.gz\n"
          ]
        },
        {
          "output_type": "stream",
          "name": "stderr",
          "text": [
            "100%|██████████| 29515/29515 [00:00<00:00, 149463.25it/s]\n"
          ]
        },
        {
          "output_type": "stream",
          "name": "stdout",
          "text": [
            "Extracting data/FashionMNIST/raw/train-labels-idx1-ubyte.gz to data/FashionMNIST/raw\n",
            "\n",
            "Downloading http://fashion-mnist.s3-website.eu-central-1.amazonaws.com/t10k-images-idx3-ubyte.gz\n",
            "Downloading http://fashion-mnist.s3-website.eu-central-1.amazonaws.com/t10k-images-idx3-ubyte.gz to data/FashionMNIST/raw/t10k-images-idx3-ubyte.gz\n"
          ]
        },
        {
          "output_type": "stream",
          "name": "stderr",
          "text": [
            "100%|██████████| 4422102/4422102 [00:01<00:00, 2817014.89it/s]\n"
          ]
        },
        {
          "output_type": "stream",
          "name": "stdout",
          "text": [
            "Extracting data/FashionMNIST/raw/t10k-images-idx3-ubyte.gz to data/FashionMNIST/raw\n",
            "\n",
            "Downloading http://fashion-mnist.s3-website.eu-central-1.amazonaws.com/t10k-labels-idx1-ubyte.gz\n",
            "Downloading http://fashion-mnist.s3-website.eu-central-1.amazonaws.com/t10k-labels-idx1-ubyte.gz to data/FashionMNIST/raw/t10k-labels-idx1-ubyte.gz\n"
          ]
        },
        {
          "output_type": "stream",
          "name": "stderr",
          "text": [
            "100%|██████████| 5148/5148 [00:00<00:00, 8260243.68it/s]"
          ]
        },
        {
          "output_type": "stream",
          "name": "stdout",
          "text": [
            "Extracting data/FashionMNIST/raw/t10k-labels-idx1-ubyte.gz to data/FashionMNIST/raw\n",
            "\n"
          ]
        },
        {
          "output_type": "stream",
          "name": "stderr",
          "text": [
            "\n"
          ]
        }
      ]
    },
    {
      "cell_type": "code",
      "source": [
        "label_map = {\n",
        "    0: \"T-Shirt\",\n",
        "    1: \"Trouser\",\n",
        "    2: \"Pullover\",\n",
        "    3: \"Dress\",\n",
        "    4: \"Coat\",\n",
        "    5: \"Sandal\",\n",
        "    6: \"Shirt\",\n",
        "    7: \"Sneaker\",\n",
        "    8: \"Bag\",\n",
        "    9: \"Ankle Boot\",\n",
        "}\n",
        "\n",
        "fig = plt.figure(figsize=(8, 8))\n",
        "cols, rows = 3, 3\n",
        "\n",
        "for i in range(1, cols * rows + 1):\n",
        "    sample_idx = torch.randint(len(training_data), size=(1,)).item()\n",
        "    img, label = training_data[sample_idx]\n",
        "\n",
        "    fig.add_subplot(rows, cols, i)\n",
        "    plt.title(label_map[label])\n",
        "    plt.axis(\"off\")\n",
        "    plt.imshow(img.squeeze(), cmap=\"gray\")\n"
      ],
      "metadata": {
        "colab": {
          "base_uri": "https://localhost:8080/",
          "height": 675
        },
        "id": "ElrX4S61v7GG",
        "outputId": "a78b9ca2-9827-4814-c5d7-af787e263437"
      },
      "execution_count": 4,
      "outputs": [
        {
          "output_type": "display_data",
          "data": {
            "text/plain": [
              "<Figure size 800x800 with 9 Axes>"
            ],
            "image/png": "[encoded data removed]"
          },
          "metadata": {}
        }
      ]
    },
    {
      "cell_type": "code",
      "source": [
        "batch_size = 64\n",
        "\n",
        "train_dataloader = DataLoader(training_data, batch_size=batch_size)\n",
        "test_dataloader = DataLoader(test_data, batch_size=batch_size)\n",
        "\n",
        "for X, y in test_dataloader:\n",
        "    print(f\"Shape of X [N, C, H, W] : {X.shape}\")\n",
        "    print(f\"Shape of y: {y.shape} {y.dtype}\")\n",
        "    break"
      ],
      "metadata": {
        "colab": {
          "base_uri": "https://localhost:8080/"
        },
        "id": "G-8huH6cupQQ",
        "outputId": "41eb2844-3f30-4381-ffdf-1be6964c29ec"
      },
      "execution_count": 5,
      "outputs": [
        {
          "output_type": "stream",
          "name": "stdout",
          "text": [
            "Shape of X [N, C, H, W] : torch.Size([64, 1, 28, 28])\n",
            "Shape of y: torch.Size([64]) torch.int64\n"
          ]
        }
      ]
    },
    {
      "cell_type": "code",
      "source": [
        "device = (\n",
        "    'cuda'\n",
        "    if torch.cuda.is_available()\n",
        "    else 'mps'\n",
        "    if torch.backends.mps.is_available()\n",
        "    else 'cpu'\n",
        ")\n",
        "\n",
        "device"
      ],
      "metadata": {
        "colab": {
          "base_uri": "https://localhost:8080/",
          "height": 35
        },
        "id": "_CXPgUbixXeW",
        "outputId": "7b7a44ac-69e1-47b6-fe23-060258e7db93"
      },
      "execution_count": 6,
      "outputs": [
        {
          "output_type": "execute_result",
          "data": {
            "text/plain": [
              "'cuda'"
            ],
            "application/vnd.google.colaboratory.intrinsic+json": {
              "type": "string"
            }
          },
          "metadata": {},
          "execution_count": 6
        }
      ]
    },
    {
      "cell_type": "code",
      "source": [
        "class NeuralNetwork(nn.Module):\n",
        "\n",
        "    def __init__(self):\n",
        "        super().__init__()\n",
        "        self.flatten = nn.Flatten()\n",
        "        self.linear_relu_stack = nn.Sequential(\n",
        "            nn.Linear(28 * 28, 512),\n",
        "            nn.ReLU(),\n",
        "            nn.Linear(512, 512),\n",
        "            nn.ReLU(),\n",
        "            nn.Linear(512, 10)\n",
        "        )\n",
        "\n",
        "    def forward(self, x):\n",
        "        x = self.flatten(x)\n",
        "        logits = self.linear_relu_stack(x)\n",
        "\n",
        "        return logits"
      ],
      "metadata": {
        "id": "Iv6I4o1dyvvb"
      },
      "execution_count": 7,
      "outputs": []
    },
    {
      "cell_type": "code",
      "source": [
        "def train(dataloader, model, loss_fn, optimizer):\n",
        "    size = len(dataloader.dataset)\n",
        "    model.train()\n",
        "    for batch, (X, y) in enumerate(dataloader):\n",
        "        X, y = X.to(device), y.to(device)\n",
        "\n",
        "        # compute predictions error\n",
        "        predictions = model(X)\n",
        "        loss = loss_fn(predictions, y)\n",
        "\n",
        "        # backpropagation\n",
        "        loss.backward()\n",
        "        optimizer.step()\n",
        "        optimizer.zero_grad()\n",
        "\n",
        "        if batch % 100 == 0:\n",
        "            loss, current = loss.item(), batch * len(X) * len(X[0])\n",
        "            print(f\"loss: {loss:>7f}  [{current:>5d}/{size:>5d}]\")"
      ],
      "metadata": {
        "id": "Yte42JgEztds"
      },
      "execution_count": 8,
      "outputs": []
    },
    {
      "cell_type": "code",
      "source": [
        "def test(dataloader, model, loss_fn):\n",
        "    size = len(dataloader.dataset)\n",
        "    num_batches = len(dataloader)\n",
        "\n",
        "    model.eval()\n",
        "    test_loss, correct = 0, 0\n",
        "    with torch.no_grad():\n",
        "        for X, y in dataloader:\n",
        "            X, y = X.to(device), y.to(device)\n",
        "            predictions = model(X)\n",
        "            test_loss += loss_fn(predictions, y).item()\n",
        "            correct += (predictions.argmax(1) == y).type(torch.float).sum().item()\n",
        "\n",
        "    test_loss /= num_batches\n",
        "    correct /= size\n",
        "    print(f\"Test Error: \\n Accuracy: {(100 * correct):>0.1f}%, Avg loss: {test_loss:>8f}\\n\")"
      ],
      "metadata": {
        "id": "XV1Vb9x00wJV"
      },
      "execution_count": 9,
      "outputs": []
    },
    {
      "cell_type": "code",
      "source": [
        "model = NeuralNetwork().to(device)\n",
        "loss_fn = nn.CrossEntropyLoss()\n",
        "optimizer = torch.optim.SGD(model.parameters(), lr=1e-3)\n",
        "\n",
        "epochs = 10\n",
        "\n",
        "for t in range(epochs):\n",
        "    print(f\"Epoch {t + 1}\\n-------------------------------\")\n",
        "    train(train_dataloader, model, loss_fn, optimizer)\n",
        "    test(test_dataloader, model, loss_fn)\n",
        "\n",
        "print(\"Done!\")"
      ],
      "metadata": {
        "colab": {
          "base_uri": "https://localhost:8080/"
        },
        "id": "RQl6HIfj1gKJ",
        "outputId": "1542f581-c72b-4d49-884d-76f8c5468000"
      },
      "execution_count": 10,
      "outputs": [
        {
          "output_type": "stream",
          "name": "stdout",
          "text": [
            "Epoch 1\n",
            "-------------------------------\n",
            "loss: 2.294995  [    0/60000]\n",
            "loss: 2.285068  [ 6400/60000]\n",
            "loss: 2.271847  [12800/60000]\n",
            "loss: 2.271696  [19200/60000]\n",
            "loss: 2.244425  [25600/60000]\n",
            "loss: 2.216318  [32000/60000]\n",
            "loss: 2.228523  [38400/60000]\n",
            "loss: 2.199887  [44800/60000]\n",
            "loss: 2.199944  [51200/60000]\n",
            "loss: 2.159282  [57600/60000]\n",
            "Test Error: \n",
            " Accuracy: 44.8%, Avg loss: 2.160146\n",
            "\n",
            "Epoch 2\n",
            "-------------------------------\n",
            "loss: 2.172801  [    0/60000]\n",
            "loss: 2.160967  [ 6400/60000]\n",
            "loss: 2.110201  [12800/60000]\n",
            "loss: 2.126361  [19200/60000]\n",
            "loss: 2.068755  [25600/60000]\n",
            "loss: 2.011927  [32000/60000]\n",
            "loss: 2.045473  [38400/60000]\n",
            "loss: 1.974840  [44800/60000]\n",
            "loss: 1.981900  [51200/60000]\n",
            "loss: 1.892722  [57600/60000]\n",
            "Test Error: \n",
            " Accuracy: 53.7%, Avg loss: 1.897439\n",
            "\n",
            "Epoch 3\n",
            "-------------------------------\n",
            "loss: 1.935811  [    0/60000]\n",
            "loss: 1.901854  [ 6400/60000]\n",
            "loss: 1.788316  [12800/60000]\n",
            "loss: 1.826089  [19200/60000]\n",
            "loss: 1.711932  [25600/60000]\n",
            "loss: 1.660475  [32000/60000]\n",
            "loss: 1.687270  [38400/60000]\n",
            "loss: 1.594242  [44800/60000]\n",
            "loss: 1.616745  [51200/60000]\n",
            "loss: 1.494729  [57600/60000]\n",
            "Test Error: \n",
            " Accuracy: 59.9%, Avg loss: 1.517502\n",
            "\n",
            "Epoch 4\n",
            "-------------------------------\n",
            "loss: 1.587674  [    0/60000]\n",
            "loss: 1.548668  [ 6400/60000]\n",
            "loss: 1.398596  [12800/60000]\n",
            "loss: 1.471713  [19200/60000]\n",
            "loss: 1.343915  [25600/60000]\n",
            "loss: 1.340433  [32000/60000]\n",
            "loss: 1.353806  [38400/60000]\n",
            "loss: 1.289439  [44800/60000]\n",
            "loss: 1.322004  [51200/60000]\n",
            "loss: 1.208695  [57600/60000]\n",
            "Test Error: \n",
            " Accuracy: 62.7%, Avg loss: 1.241871\n",
            "\n",
            "Epoch 5\n",
            "-------------------------------\n",
            "loss: 1.321642  [    0/60000]\n",
            "loss: 1.302879  [ 6400/60000]\n",
            "loss: 1.135073  [12800/60000]\n",
            "loss: 1.246163  [19200/60000]\n",
            "loss: 1.110914  [25600/60000]\n",
            "loss: 1.138848  [32000/60000]\n",
            "loss: 1.158251  [38400/60000]\n",
            "loss: 1.107951  [44800/60000]\n",
            "loss: 1.145760  [51200/60000]\n",
            "loss: 1.050192  [57600/60000]\n",
            "Test Error: \n",
            " Accuracy: 64.4%, Avg loss: 1.077685\n",
            "\n",
            "Epoch 6\n",
            "-------------------------------\n",
            "loss: 1.151529  [    0/60000]\n",
            "loss: 1.154269  [ 6400/60000]\n",
            "loss: 0.967537  [12800/60000]\n",
            "loss: 1.110572  [19200/60000]\n",
            "loss: 0.972598  [25600/60000]\n",
            "loss: 1.007765  [32000/60000]\n",
            "loss: 1.043199  [38400/60000]\n",
            "loss: 0.995946  [44800/60000]\n",
            "loss: 1.033774  [51200/60000]\n",
            "loss: 0.954488  [57600/60000]\n",
            "Test Error: \n",
            " Accuracy: 65.8%, Avg loss: 0.974378\n",
            "\n",
            "Epoch 7\n",
            "-------------------------------\n",
            "loss: 1.035688  [    0/60000]\n",
            "loss: 1.059604  [ 6400/60000]\n",
            "loss: 0.855044  [12800/60000]\n",
            "loss: 1.021653  [19200/60000]\n",
            "loss: 0.887794  [25600/60000]\n",
            "loss: 0.916998  [32000/60000]\n",
            "loss: 0.969548  [38400/60000]\n",
            "loss: 0.923684  [44800/60000]\n",
            "loss: 0.956939  [51200/60000]\n",
            "loss: 0.890699  [57600/60000]\n",
            "Test Error: \n",
            " Accuracy: 67.1%, Avg loss: 0.904381\n",
            "\n",
            "Epoch 8\n",
            "-------------------------------\n",
            "loss: 0.950675  [    0/60000]\n",
            "loss: 0.993823  [ 6400/60000]\n",
            "loss: 0.774782  [12800/60000]\n",
            "loss: 0.958519  [19200/60000]\n",
            "loss: 0.832116  [25600/60000]\n",
            "loss: 0.850533  [32000/60000]\n",
            "loss: 0.918006  [38400/60000]\n",
            "loss: 0.874828  [44800/60000]\n",
            "loss: 0.901034  [51200/60000]\n",
            "loss: 0.844303  [57600/60000]\n",
            "Test Error: \n",
            " Accuracy: 68.3%, Avg loss: 0.853672\n",
            "\n",
            "Epoch 9\n",
            "-------------------------------\n",
            "loss: 0.884682  [    0/60000]\n",
            "loss: 0.944097  [ 6400/60000]\n",
            "loss: 0.714590  [12800/60000]\n",
            "loss: 0.910910  [19200/60000]\n",
            "loss: 0.792882  [25600/60000]\n",
            "loss: 0.800465  [32000/60000]\n",
            "loss: 0.878734  [38400/60000]\n",
            "loss: 0.840310  [44800/60000]\n",
            "loss: 0.858757  [51200/60000]\n",
            "loss: 0.808297  [57600/60000]\n",
            "Test Error: \n",
            " Accuracy: 69.4%, Avg loss: 0.814824\n",
            "\n",
            "Epoch 10\n",
            "-------------------------------\n",
            "loss: 0.831339  [    0/60000]\n",
            "loss: 0.904016  [ 6400/60000]\n",
            "loss: 0.667794  [12800/60000]\n",
            "loss: 0.873554  [19200/60000]\n",
            "loss: 0.763259  [25600/60000]\n",
            "loss: 0.761793  [32000/60000]\n",
            "loss: 0.846277  [38400/60000]\n",
            "loss: 0.814519  [44800/60000]\n",
            "loss: 0.825610  [51200/60000]\n",
            "loss: 0.778788  [57600/60000]\n",
            "Test Error: \n",
            " Accuracy: 70.7%, Avg loss: 0.783499\n",
            "\n",
            "Done!\n"
          ]
        }
      ]
    },
    {
      "cell_type": "code",
      "source": [
        "print(model)"
      ],
      "metadata": {
        "colab": {
          "base_uri": "https://localhost:8080/"
        },
        "id": "jFq1fIdW8n1n",
        "outputId": "59fe86b4-2826-4e71-b05f-c6a594ee8171"
      },
      "execution_count": 11,
      "outputs": [
        {
          "output_type": "stream",
          "name": "stdout",
          "text": [
            "NeuralNetwork(\n",
            "  (flatten): Flatten(start_dim=1, end_dim=-1)\n",
            "  (linear_relu_stack): Sequential(\n",
            "    (0): Linear(in_features=784, out_features=512, bias=True)\n",
            "    (1): ReLU()\n",
            "    (2): Linear(in_features=512, out_features=512, bias=True)\n",
            "    (3): ReLU()\n",
            "    (4): Linear(in_features=512, out_features=10, bias=True)\n",
            "  )\n",
            ")\n"
          ]
        }
      ]
    },
    {
      "cell_type": "code",
      "source": [
        "torch.save(model.state_dict(), 'model.pth')"
      ],
      "metadata": {
        "id": "7bWtKuIk103c"
      },
      "execution_count": 12,
      "outputs": []
    },
    {
      "cell_type": "code",
      "source": [
        "model2 = NeuralNetwork().to(device)\n",
        "model2.load_state_dict(torch.load('model.pth'))"
      ],
      "metadata": {
        "colab": {
          "base_uri": "https://localhost:8080/"
        },
        "id": "g2QgVXBF2SSb",
        "outputId": "103a0462-e5ca-47c7-c88a-6f4a0fcd0cb9"
      },
      "execution_count": 13,
      "outputs": [
        {
          "output_type": "execute_result",
          "data": {
            "text/plain": [
              "<All keys matched successfully>"
            ]
          },
          "metadata": {},
          "execution_count": 13
        }
      ]
    },
    {
      "cell_type": "code",
      "source": [
        "classes = [v for v in label_map.values() ]\n",
        "print(classes)"
      ],
      "metadata": {
        "colab": {
          "base_uri": "https://localhost:8080/"
        },
        "id": "vPLaTgC93S8-",
        "outputId": "afbfc9c9-7bc6-400b-8704-077c13ecfafa"
      },
      "execution_count": 14,
      "outputs": [
        {
          "output_type": "stream",
          "name": "stdout",
          "text": [
            "['T-Shirt', 'Trouser', 'Pullover', 'Dress', 'Coat', 'Sandal', 'Shirt', 'Sneaker', 'Bag', 'Ankle Boot']\n"
          ]
        }
      ]
    },
    {
      "cell_type": "code",
      "source": [
        "index = 89 # @param {type : 'number'}\n",
        "\n",
        "model2.eval()\n",
        "x, y = test_data[index][0], test_data[index][1]\n",
        "with torch.no_grad():\n",
        "    x = x.to(device)\n",
        "    pred = model2(x)\n",
        "    predicted, actual = classes[pred[0].argmax(0)], classes[y]\n",
        "\n",
        "    plt.title(f'Predicted: \"{predicted}\", Actual: \"{actual}\"')\n",
        "    plt.imshow(x.cpu().squeeze(), cmap='gray')\n",
        "    plt.axis('off')"
      ],
      "metadata": {
        "colab": {
          "base_uri": "https://localhost:8080/",
          "height": 428
        },
        "id": "kQY4-1mx2eR9",
        "outputId": "84f361c6-5243-43af-d5c3-9f50d45a318e"
      },
      "execution_count": 15,
      "outputs": [
        {
          "output_type": "display_data",
          "data": {
            "text/plain": [
              "<Figure size 640x480 with 1 Axes>"
            ],
            "image/png": "[encoded data removed]"
          },
          "metadata": {}
        }
      ]
    },
    {
      "cell_type": "markdown",
      "source": [
        "# Tensors\n",
        "\n",
        "Referências:\n",
        "1. <https://pytorch.org/tutorials/beginner/basics/tensorqs_tutorial.html>\n",
        "2. <https://pytorch.org/docs/stable/torch.html>"
      ],
      "metadata": {
        "id": "-yzLGyGX8H89"
      }
    },
    {
      "cell_type": "code",
      "source": [
        "import torch\n",
        "import numpy as np"
      ],
      "metadata": {
        "id": "sONyzdUN2q77"
      },
      "execution_count": 16,
      "outputs": []
    },
    {
      "cell_type": "code",
      "source": [
        "data = [[1, 2], [3, 4]]\n",
        "x_data = torch.tensor(data)\n",
        "\n",
        "x_data"
      ],
      "metadata": {
        "colab": {
          "base_uri": "https://localhost:8080/"
        },
        "id": "xmTEZ3xK8u7i",
        "outputId": "85f246c9-8b18-4148-dfae-021167ac381f"
      },
      "execution_count": 17,
      "outputs": [
        {
          "output_type": "execute_result",
          "data": {
            "text/plain": [
              "tensor([[1, 2],\n",
              "        [3, 4]])"
            ]
          },
          "metadata": {},
          "execution_count": 17
        }
      ]
    },
    {
      "cell_type": "code",
      "source": [
        "# from numpy\n",
        "np_array = np.array(data)\n",
        "\n",
        "x_np = torch.from_numpy(np_array)\n",
        "\n",
        "x_np"
      ],
      "metadata": {
        "colab": {
          "base_uri": "https://localhost:8080/"
        },
        "id": "lkH4UxFq89aq",
        "outputId": "2cac6d39-c97d-483f-ba03-78d2f960ce7b"
      },
      "execution_count": 18,
      "outputs": [
        {
          "output_type": "execute_result",
          "data": {
            "text/plain": [
              "tensor([[1, 2],\n",
              "        [3, 4]])"
            ]
          },
          "metadata": {},
          "execution_count": 18
        }
      ]
    },
    {
      "cell_type": "code",
      "source": [
        "# From another tensor\n",
        "\n",
        "x_ones = torch.ones_like(x_data)\n",
        "\n",
        "x_ones"
      ],
      "metadata": {
        "colab": {
          "base_uri": "https://localhost:8080/"
        },
        "id": "WF2OFuax9HLR",
        "outputId": "16fd89e2-71cc-48b4-d665-3865bbe3d53e"
      },
      "execution_count": 19,
      "outputs": [
        {
          "output_type": "execute_result",
          "data": {
            "text/plain": [
              "tensor([[1, 1],\n",
              "        [1, 1]])"
            ]
          },
          "metadata": {},
          "execution_count": 19
        }
      ]
    },
    {
      "cell_type": "code",
      "source": [
        "x_rand = torch.rand_like(x_data, dtype=torch.float)\n",
        "\n",
        "x_rand"
      ],
      "metadata": {
        "colab": {
          "base_uri": "https://localhost:8080/"
        },
        "id": "vwxyERcV9JIH",
        "outputId": "720aa303-b80b-4266-8a09-3a81b7dfd0e5"
      },
      "execution_count": 20,
      "outputs": [
        {
          "output_type": "execute_result",
          "data": {
            "text/plain": [
              "tensor([[0.6633, 0.4220],\n",
              "        [0.2980, 0.1367]])"
            ]
          },
          "metadata": {},
          "execution_count": 20
        }
      ]
    },
    {
      "cell_type": "code",
      "source": [
        "shape = (3,3,)\n",
        "rand_tensor = torch.rand(shape)\n",
        "ones_tensor = torch.ones(shape)\n",
        "zeros_tensor = torch.zeros(shape)\n",
        "indenty_tensor = torch.eye(3)\n",
        "\n",
        "print(f\"Random Tensor: \\n {rand_tensor} \\n\")\n",
        "print(f\"Ones Tensor: \\n {ones_tensor} \\n\")\n",
        "print(f\"Zeros Tensor: \\n {zeros_tensor}\\n\")\n",
        "print(f\"Indenty Tensor: \\n {indenty_tensor}\")"
      ],
      "metadata": {
        "colab": {
          "base_uri": "https://localhost:8080/"
        },
        "id": "RkhgFeo89IwF",
        "outputId": "703999f0-c45e-44b0-a957-5043acca5fa3"
      },
      "execution_count": 21,
      "outputs": [
        {
          "output_type": "stream",
          "name": "stdout",
          "text": [
            "Random Tensor: \n",
            " tensor([[0.7360, 0.7317, 0.8756],\n",
            "        [0.7332, 0.7429, 0.9742],\n",
            "        [0.7505, 0.7974, 0.5196]]) \n",
            "\n",
            "Ones Tensor: \n",
            " tensor([[1., 1., 1.],\n",
            "        [1., 1., 1.],\n",
            "        [1., 1., 1.]]) \n",
            "\n",
            "Zeros Tensor: \n",
            " tensor([[0., 0., 0.],\n",
            "        [0., 0., 0.],\n",
            "        [0., 0., 0.]])\n",
            "\n",
            "Indenty Tensor: \n",
            " tensor([[1., 0., 0.],\n",
            "        [0., 1., 0.],\n",
            "        [0., 0., 1.]])\n"
          ]
        }
      ]
    },
    {
      "cell_type": "code",
      "source": [
        "tensor = torch.rand(3,4).to(device)\n",
        "\n",
        "print(f\"Shape of tensor: {tensor.shape}\")\n",
        "print(f\"Datatype of tensor: {tensor.dtype}\")\n",
        "print(f\"Device tensor is stored on: {tensor.device}\")"
      ],
      "metadata": {
        "colab": {
          "base_uri": "https://localhost:8080/"
        },
        "id": "YZIzVfOC9Ipe",
        "outputId": "08c9cc87-abcb-498d-9f20-6ae2363f5238"
      },
      "execution_count": 22,
      "outputs": [
        {
          "output_type": "stream",
          "name": "stdout",
          "text": [
            "Shape of tensor: torch.Size([3, 4])\n",
            "Datatype of tensor: torch.float32\n",
            "Device tensor is stored on: cuda:0\n"
          ]
        }
      ]
    },
    {
      "cell_type": "code",
      "source": [
        "torch.cuda.is_available()"
      ],
      "metadata": {
        "colab": {
          "base_uri": "https://localhost:8080/"
        },
        "id": "kWYhx7GW9x0P",
        "outputId": "817607d4-ba0d-4159-a4e2-a9785bc8e4be"
      },
      "execution_count": 23,
      "outputs": [
        {
          "output_type": "execute_result",
          "data": {
            "text/plain": [
              "True"
            ]
          },
          "metadata": {},
          "execution_count": 23
        }
      ]
    },
    {
      "cell_type": "code",
      "source": [
        "tensor = torch.eye(4)\n",
        "\n",
        "print('First row: ', tensor[0])\n",
        "print('Last column: ', tensor[:, -1])\n",
        "print('First column: ', tensor[:, 0])\n",
        "print('Last row: ', tensor[-1])\n",
        "print()\n",
        "tensor"
      ],
      "metadata": {
        "colab": {
          "base_uri": "https://localhost:8080/"
        },
        "id": "SxFUb38_AHtW",
        "outputId": "db7c36e0-8897-4d06-b229-819a92a06156"
      },
      "execution_count": 24,
      "outputs": [
        {
          "output_type": "stream",
          "name": "stdout",
          "text": [
            "First row:  tensor([1., 0., 0., 0.])\n",
            "Last column:  tensor([0., 0., 0., 1.])\n",
            "First column:  tensor([1., 0., 0., 0.])\n",
            "Last row:  tensor([0., 0., 0., 1.])\n",
            "\n"
          ]
        },
        {
          "output_type": "execute_result",
          "data": {
            "text/plain": [
              "tensor([[1., 0., 0., 0.],\n",
              "        [0., 1., 0., 0.],\n",
              "        [0., 0., 1., 0.],\n",
              "        [0., 0., 0., 1.]])"
            ]
          },
          "metadata": {},
          "execution_count": 24
        }
      ]
    },
    {
      "cell_type": "code",
      "source": [
        "tensor.shape"
      ],
      "metadata": {
        "colab": {
          "base_uri": "https://localhost:8080/"
        },
        "id": "cA91mT2TAHi2",
        "outputId": "c1e50e48-2a44-4314-c0f1-9a1db6ce82c8"
      },
      "execution_count": 25,
      "outputs": [
        {
          "output_type": "execute_result",
          "data": {
            "text/plain": [
              "torch.Size([4, 4])"
            ]
          },
          "metadata": {},
          "execution_count": 25
        }
      ]
    },
    {
      "cell_type": "code",
      "source": [
        "tensor.squeeze()"
      ],
      "metadata": {
        "colab": {
          "base_uri": "https://localhost:8080/"
        },
        "id": "21UE11GpAug-",
        "outputId": "0cc0f857-caf0-4878-a93b-769a8c553609"
      },
      "execution_count": 26,
      "outputs": [
        {
          "output_type": "execute_result",
          "data": {
            "text/plain": [
              "tensor([[1., 0., 0., 0.],\n",
              "        [0., 1., 0., 0.],\n",
              "        [0., 0., 1., 0.],\n",
              "        [0., 0., 0., 1.]])"
            ]
          },
          "metadata": {},
          "execution_count": 26
        }
      ]
    },
    {
      "cell_type": "code",
      "source": [
        "nn.Flatten()(tensor)"
      ],
      "metadata": {
        "colab": {
          "base_uri": "https://localhost:8080/"
        },
        "id": "xEE68snHAyzE",
        "outputId": "d6b9bbe4-78bc-4185-b018-322145a263a7"
      },
      "execution_count": 27,
      "outputs": [
        {
          "output_type": "execute_result",
          "data": {
            "text/plain": [
              "tensor([[1., 0., 0., 0.],\n",
              "        [0., 1., 0., 0.],\n",
              "        [0., 0., 1., 0.],\n",
              "        [0., 0., 0., 1.]])"
            ]
          },
          "metadata": {},
          "execution_count": 27
        }
      ]
    },
    {
      "cell_type": "code",
      "source": [
        "t1 = torch.cat([tensor, tensor, tensor], dim=1)\n",
        "print(t1.shape)\n",
        "t1"
      ],
      "metadata": {
        "colab": {
          "base_uri": "https://localhost:8080/"
        },
        "id": "IVeDnnbhBbfv",
        "outputId": "d08c7b9e-b7a3-41b4-c0df-bd0ba75b5f0b"
      },
      "execution_count": 28,
      "outputs": [
        {
          "output_type": "stream",
          "name": "stdout",
          "text": [
            "torch.Size([4, 12])\n"
          ]
        },
        {
          "output_type": "execute_result",
          "data": {
            "text/plain": [
              "tensor([[1., 0., 0., 0., 1., 0., 0., 0., 1., 0., 0., 0.],\n",
              "        [0., 1., 0., 0., 0., 1., 0., 0., 0., 1., 0., 0.],\n",
              "        [0., 0., 1., 0., 0., 0., 1., 0., 0., 0., 1., 0.],\n",
              "        [0., 0., 0., 1., 0., 0., 0., 1., 0., 0., 0., 1.]])"
            ]
          },
          "metadata": {},
          "execution_count": 28
        }
      ]
    },
    {
      "cell_type": "code",
      "source": [
        "t1 = torch.cat([tensor, tensor, tensor], dim=0)\n",
        "print(t1.shape)\n",
        "t1"
      ],
      "metadata": {
        "colab": {
          "base_uri": "https://localhost:8080/"
        },
        "id": "pUrO5I4eBbaJ",
        "outputId": "53102ff0-a232-4140-b421-a66eb3b91beb"
      },
      "execution_count": 29,
      "outputs": [
        {
          "output_type": "stream",
          "name": "stdout",
          "text": [
            "torch.Size([12, 4])\n"
          ]
        },
        {
          "output_type": "execute_result",
          "data": {
            "text/plain": [
              "tensor([[1., 0., 0., 0.],\n",
              "        [0., 1., 0., 0.],\n",
              "        [0., 0., 1., 0.],\n",
              "        [0., 0., 0., 1.],\n",
              "        [1., 0., 0., 0.],\n",
              "        [0., 1., 0., 0.],\n",
              "        [0., 0., 1., 0.],\n",
              "        [0., 0., 0., 1.],\n",
              "        [1., 0., 0., 0.],\n",
              "        [0., 1., 0., 0.],\n",
              "        [0., 0., 1., 0.],\n",
              "        [0., 0., 0., 1.]])"
            ]
          },
          "metadata": {},
          "execution_count": 29
        }
      ]
    },
    {
      "cell_type": "code",
      "source": [
        "tensor = torch.ones(4, 4)\n",
        "\n",
        "tensor"
      ],
      "metadata": {
        "colab": {
          "base_uri": "https://localhost:8080/"
        },
        "id": "FTukcFonBbSy",
        "outputId": "20b74ea0-38eb-4bc0-c83b-41446e58590f"
      },
      "execution_count": 30,
      "outputs": [
        {
          "output_type": "execute_result",
          "data": {
            "text/plain": [
              "tensor([[1., 1., 1., 1.],\n",
              "        [1., 1., 1., 1.],\n",
              "        [1., 1., 1., 1.],\n",
              "        [1., 1., 1., 1.]])"
            ]
          },
          "metadata": {},
          "execution_count": 30
        }
      ]
    },
    {
      "cell_type": "code",
      "source": [
        "tensor[:, 1] = 0\n",
        "\n",
        "tensor"
      ],
      "metadata": {
        "colab": {
          "base_uri": "https://localhost:8080/"
        },
        "id": "jbd9-kmbBmeS",
        "outputId": "4bafd0b1-e36b-47e1-dcc2-e540e2855b97"
      },
      "execution_count": 31,
      "outputs": [
        {
          "output_type": "execute_result",
          "data": {
            "text/plain": [
              "tensor([[1., 0., 1., 1.],\n",
              "        [1., 0., 1., 1.],\n",
              "        [1., 0., 1., 1.],\n",
              "        [1., 0., 1., 1.]])"
            ]
          },
          "metadata": {},
          "execution_count": 31
        }
      ]
    },
    {
      "cell_type": "code",
      "source": [
        "tensor @ tensor.T"
      ],
      "metadata": {
        "colab": {
          "base_uri": "https://localhost:8080/"
        },
        "id": "_9nnyUwJBloY",
        "outputId": "0bf19ca3-37da-4454-bd28-45dec63feed9"
      },
      "execution_count": 32,
      "outputs": [
        {
          "output_type": "execute_result",
          "data": {
            "text/plain": [
              "tensor([[3., 3., 3., 3.],\n",
              "        [3., 3., 3., 3.],\n",
              "        [3., 3., 3., 3.],\n",
              "        [3., 3., 3., 3.]])"
            ]
          },
          "metadata": {},
          "execution_count": 32
        }
      ]
    },
    {
      "cell_type": "code",
      "source": [
        "tensor.matmul(tensor.T)"
      ],
      "metadata": {
        "colab": {
          "base_uri": "https://localhost:8080/"
        },
        "id": "yjeX2DlwBlg4",
        "outputId": "08a3292b-58fd-4a88-ec66-6ce5ab6387f7"
      },
      "execution_count": 33,
      "outputs": [
        {
          "output_type": "execute_result",
          "data": {
            "text/plain": [
              "tensor([[3., 3., 3., 3.],\n",
              "        [3., 3., 3., 3.],\n",
              "        [3., 3., 3., 3.],\n",
              "        [3., 3., 3., 3.]])"
            ]
          },
          "metadata": {},
          "execution_count": 33
        }
      ]
    },
    {
      "cell_type": "code",
      "source": [
        "z1 = torch.zeros(4, 4)\n",
        "\n",
        "torch.matmul(tensor, tensor.T, out=z1)"
      ],
      "metadata": {
        "colab": {
          "base_uri": "https://localhost:8080/"
        },
        "id": "CJ9JrJMlCmmQ",
        "outputId": "1a67b090-e0df-405c-fff3-e08ae0e4a019"
      },
      "execution_count": 34,
      "outputs": [
        {
          "output_type": "execute_result",
          "data": {
            "text/plain": [
              "tensor([[3., 3., 3., 3.],\n",
              "        [3., 3., 3., 3.],\n",
              "        [3., 3., 3., 3.],\n",
              "        [3., 3., 3., 3.]])"
            ]
          },
          "metadata": {},
          "execution_count": 34
        }
      ]
    },
    {
      "cell_type": "code",
      "source": [
        "z1"
      ],
      "metadata": {
        "colab": {
          "base_uri": "https://localhost:8080/"
        },
        "id": "0nBOcuG5C1Rz",
        "outputId": "93868135-b5e7-408a-d704-865e32284e7c"
      },
      "execution_count": 35,
      "outputs": [
        {
          "output_type": "execute_result",
          "data": {
            "text/plain": [
              "tensor([[3., 3., 3., 3.],\n",
              "        [3., 3., 3., 3.],\n",
              "        [3., 3., 3., 3.],\n",
              "        [3., 3., 3., 3.]])"
            ]
          },
          "metadata": {},
          "execution_count": 35
        }
      ]
    },
    {
      "cell_type": "code",
      "source": [
        "t1 = torch.eye(3)\n",
        "t2 = torch.rand(3,3)\n",
        "\n",
        "t1 * t2"
      ],
      "metadata": {
        "colab": {
          "base_uri": "https://localhost:8080/"
        },
        "id": "1xXS80hbCOJ1",
        "outputId": "1b6862ae-bfe3-4435-a019-1ca469513f38"
      },
      "execution_count": 36,
      "outputs": [
        {
          "output_type": "execute_result",
          "data": {
            "text/plain": [
              "tensor([[0.7080, 0.0000, 0.0000],\n",
              "        [0.0000, 0.4109, 0.0000],\n",
              "        [0.0000, 0.0000, 0.3213]])"
            ]
          },
          "metadata": {},
          "execution_count": 36
        }
      ]
    },
    {
      "cell_type": "code",
      "source": [
        "t1.mul(t2)"
      ],
      "metadata": {
        "colab": {
          "base_uri": "https://localhost:8080/"
        },
        "id": "8_8_Kv6gCOFd",
        "outputId": "7db12bc2-550c-455c-e254-1966e3a544d1"
      },
      "execution_count": 37,
      "outputs": [
        {
          "output_type": "execute_result",
          "data": {
            "text/plain": [
              "tensor([[0.7080, 0.0000, 0.0000],\n",
              "        [0.0000, 0.4109, 0.0000],\n",
              "        [0.0000, 0.0000, 0.3213]])"
            ]
          },
          "metadata": {},
          "execution_count": 37
        }
      ]
    },
    {
      "cell_type": "code",
      "source": [
        "tensor"
      ],
      "metadata": {
        "colab": {
          "base_uri": "https://localhost:8080/"
        },
        "id": "J_nq5qBACOA3",
        "outputId": "8a2741f9-e81f-4085-d2b5-b812bbb132f7"
      },
      "execution_count": 38,
      "outputs": [
        {
          "output_type": "execute_result",
          "data": {
            "text/plain": [
              "tensor([[1., 0., 1., 1.],\n",
              "        [1., 0., 1., 1.],\n",
              "        [1., 0., 1., 1.],\n",
              "        [1., 0., 1., 1.]])"
            ]
          },
          "metadata": {},
          "execution_count": 38
        }
      ]
    },
    {
      "cell_type": "code",
      "source": [
        "agg = tensor.sum()\n",
        "\n",
        "agg.item(), type(agg.item())"
      ],
      "metadata": {
        "colab": {
          "base_uri": "https://localhost:8080/"
        },
        "id": "QPxTpCGiDLfK",
        "outputId": "de591052-c6e0-4a8c-e922-d76f6a39d4ad"
      },
      "execution_count": 39,
      "outputs": [
        {
          "output_type": "execute_result",
          "data": {
            "text/plain": [
              "(12.0, float)"
            ]
          },
          "metadata": {},
          "execution_count": 39
        }
      ]
    },
    {
      "cell_type": "code",
      "source": [
        "t = torch.rand(5, 3)\n",
        "\n",
        "t"
      ],
      "metadata": {
        "id": "5mHKed75DLbD",
        "colab": {
          "base_uri": "https://localhost:8080/"
        },
        "outputId": "ecb16922-8a31-4b63-cf39-f54757a95d29"
      },
      "execution_count": 40,
      "outputs": [
        {
          "output_type": "execute_result",
          "data": {
            "text/plain": [
              "tensor([[0.8381, 0.1442, 0.4157],\n",
              "        [0.2932, 0.5974, 0.0107],\n",
              "        [0.0641, 0.4865, 0.4180],\n",
              "        [0.3983, 0.4510, 0.6719],\n",
              "        [0.4241, 0.7193, 0.3564]])"
            ]
          },
          "metadata": {},
          "execution_count": 40
        }
      ]
    },
    {
      "cell_type": "code",
      "source": [
        "n = t.numpy()\n",
        "\n",
        "n"
      ],
      "metadata": {
        "colab": {
          "base_uri": "https://localhost:8080/"
        },
        "id": "iUmhN7GU-fS1",
        "outputId": "254c1f13-def5-4e17-c939-e34d254d9e81"
      },
      "execution_count": 41,
      "outputs": [
        {
          "output_type": "execute_result",
          "data": {
            "text/plain": [
              "array([[0.8380543 , 0.14416748, 0.41568077],\n",
              "       [0.29315072, 0.597386  , 0.01067322],\n",
              "       [0.06408036, 0.4865166 , 0.41799563],\n",
              "       [0.3983026 , 0.4509604 , 0.6718941 ],\n",
              "       [0.42407525, 0.7193236 , 0.35641748]], dtype=float32)"
            ]
          },
          "metadata": {},
          "execution_count": 41
        }
      ]
    },
    {
      "cell_type": "code",
      "source": [
        "# changes the tensor, reflects to the numpy array\n",
        "\n",
        "t.add_(5)\n",
        "\n",
        "n"
      ],
      "metadata": {
        "colab": {
          "base_uri": "https://localhost:8080/"
        },
        "id": "OvH3OERk-ycl",
        "outputId": "c1d2e5a6-1548-4fe2-c189-142014f46fcb"
      },
      "execution_count": 42,
      "outputs": [
        {
          "output_type": "execute_result",
          "data": {
            "text/plain": [
              "array([[5.838054 , 5.1441674, 5.415681 ],\n",
              "       [5.293151 , 5.597386 , 5.010673 ],\n",
              "       [5.06408  , 5.4865165, 5.4179955],\n",
              "       [5.3983026, 5.45096  , 5.671894 ],\n",
              "       [5.424075 , 5.7193236, 5.3564177]], dtype=float32)"
            ]
          },
          "metadata": {},
          "execution_count": 42
        }
      ]
    },
    {
      "cell_type": "code",
      "source": [
        "n = np.ones(10)\n",
        "\n",
        "t = torch.from_numpy(n)\n",
        "\n",
        "t"
      ],
      "metadata": {
        "colab": {
          "base_uri": "https://localhost:8080/"
        },
        "id": "oIEUcmkD-yVc",
        "outputId": "ddfc6a99-bb08-49de-8874-c7f1131421ab"
      },
      "execution_count": 43,
      "outputs": [
        {
          "output_type": "execute_result",
          "data": {
            "text/plain": [
              "tensor([1., 1., 1., 1., 1., 1., 1., 1., 1., 1.], dtype=torch.float64)"
            ]
          },
          "metadata": {},
          "execution_count": 43
        }
      ]
    },
    {
      "cell_type": "code",
      "source": [
        "# changes the numpy, reflects to the tensor\n",
        "\n",
        "np.add(n, 7, out=n)\n",
        "\n",
        "t"
      ],
      "metadata": {
        "colab": {
          "base_uri": "https://localhost:8080/"
        },
        "id": "Cw-6qny1_Cvz",
        "outputId": "8eec562d-b192-4634-d0bc-ca786ddcb87a"
      },
      "execution_count": 44,
      "outputs": [
        {
          "output_type": "execute_result",
          "data": {
            "text/plain": [
              "tensor([8., 8., 8., 8., 8., 8., 8., 8., 8., 8.], dtype=torch.float64)"
            ]
          },
          "metadata": {},
          "execution_count": 44
        }
      ]
    },
    {
      "cell_type": "markdown",
      "source": [],
      "metadata": {
        "id": "hZp8D2GmC-5n"
      }
    },
    {
      "cell_type": "code",
      "source": [
        "# if the tensor was sent to the  gpu device\n",
        "t = torch.ones(5).to(device)\n",
        "\n",
        "n = t.cpu().numpy()\n",
        "\n",
        "t.add_(-1)\n",
        "\n",
        "n"
      ],
      "metadata": {
        "colab": {
          "base_uri": "https://localhost:8080/"
        },
        "id": "Gtmbhvfj_R_q",
        "outputId": "5caf7231-7075-46aa-eee1-f7eb35c6ef5e"
      },
      "execution_count": 46,
      "outputs": [
        {
          "output_type": "execute_result",
          "data": {
            "text/plain": [
              "array([1., 1., 1., 1., 1.], dtype=float32)"
            ]
          },
          "metadata": {},
          "execution_count": 46
        }
      ]
    },
    {
      "cell_type": "markdown",
      "source": [
        "# Datasets and DataLoaders"
      ],
      "metadata": {
        "id": "XMiduExr8KPR"
      }
    },
    {
      "cell_type": "code",
      "source": [
        "# Creating a custom dataset for your files\n",
        "\n",
        "import os\n",
        "import pandas as pd\n",
        "from torch.utils.data import Dataset\n",
        "from torchvision.io import read_image"
      ],
      "metadata": {
        "id": "k8-YCE87Ba7b"
      },
      "execution_count": 48,
      "outputs": []
    },
    {
      "cell_type": "code",
      "source": [
        "class CustomImageDataset(Dataset):\n",
        "\n",
        "    def __init__(self, annotations_file, img_dir, transform=None, target_transform=None):\n",
        "        self.img_labes = pd.read_csv(annotations_file)\n",
        "        self.img_dir = img_dir\n",
        "        self.transform = transform\n",
        "        self.target_transform = target_transform\n",
        "\n",
        "    def __len__(self):\n",
        "        return len(self.img_labes)\n",
        "\n",
        "    def __getitem__(self, idx):\n",
        "        img_path = os.path.join(self.img_dir, self.img_labes.iloc[idx, 0])\n",
        "        image = read_image(img_path)\n",
        "        label = self.img_labes.iloc[idx, 1]\n",
        "        if self.transform:\n",
        "            image = self.transform(image)\n",
        "        if self.target_transform:\n",
        "            label = self.target_transform(label)\n",
        "        return image, label"
      ],
      "metadata": {
        "id": "dYkg7D3WAAFZ"
      },
      "execution_count": 49,
      "outputs": []
    },
    {
      "cell_type": "markdown",
      "source": [
        "# Transforms"
      ],
      "metadata": {
        "id": "gx8WMHMr8Nnt"
      }
    },
    {
      "cell_type": "code",
      "source": [
        "target = lambda y: torch.zeros(10, dtype=torch.float).scatter_(0, torch.tensor(y), value=1)\n",
        "\n",
        "t = target(5)\n",
        "\n",
        "t"
      ],
      "metadata": {
        "id": "cpoofYlV8PJJ",
        "colab": {
          "base_uri": "https://localhost:8080/"
        },
        "outputId": "44a2aba9-0ebb-486b-f13d-a8f5df24b181"
      },
      "execution_count": 53,
      "outputs": [
        {
          "output_type": "execute_result",
          "data": {
            "text/plain": [
              "tensor([0., 0., 0., 0., 0., 1., 0., 0., 0., 0.])"
            ]
          },
          "metadata": {},
          "execution_count": 53
        }
      ]
    },
    {
      "cell_type": "code",
      "source": [
        "import torch\n",
        "from torchvision import datasets\n",
        "from torchvision.transforms import ToTensor, Lambda\n",
        "\n",
        "ds = datasets.FashionMNIST(\n",
        "    root=\"data\",\n",
        "    train=True,\n",
        "    download=True,\n",
        "    transform=ToTensor(),\n",
        "    target_transform=Lambda(target)\n",
        ")"
      ],
      "metadata": {
        "id": "L8Ug__p7B9uP"
      },
      "execution_count": 55,
      "outputs": []
    },
    {
      "cell_type": "code",
      "source": [
        "img, label = ds[5]\n",
        "\n",
        "img.shape, label.shape"
      ],
      "metadata": {
        "colab": {
          "base_uri": "https://localhost:8080/"
        },
        "id": "DwkIaHqSB9K4",
        "outputId": "92a20836-ceab-4d6c-e71f-9c3589b7bd02"
      },
      "execution_count": 59,
      "outputs": [
        {
          "output_type": "execute_result",
          "data": {
            "text/plain": [
              "(torch.Size([1, 28, 28]), torch.Size([10]))"
            ]
          },
          "metadata": {},
          "execution_count": 59
        }
      ]
    },
    {
      "cell_type": "code",
      "source": [
        "img"
      ],
      "metadata": {
        "colab": {
          "base_uri": "https://localhost:8080/"
        },
        "id": "N8Ay-3QHCYpk",
        "outputId": "b41acbc9-267c-49cb-8b82-b2570ed4e1fc"
      },
      "execution_count": 60,
      "outputs": [
        {
          "output_type": "execute_result",
          "data": {
            "text/plain": [
              "tensor([[[0.0000, 0.0000, 0.0000, 0.0000, 0.0039, 0.0000, 0.0000, 0.0000,\n",
              "          0.0000, 0.0863, 0.3451, 0.7373, 0.6745, 0.5176, 0.4902, 0.5529,\n",
              "          0.7804, 0.5608, 0.0353, 0.0000, 0.0000, 0.0000, 0.0039, 0.0000,\n",
              "          0.0000, 0.0000, 0.0000, 0.0000],\n",
              "         [0.0000, 0.0000, 0.0000, 0.0039, 0.0000, 0.0000, 0.0784, 0.5137,\n",
              "          0.7804, 0.8078, 0.7686, 0.7922, 0.9490, 1.0000, 1.0000, 0.9804,\n",
              "          0.8706, 0.7725, 0.8078, 0.7373, 0.4941, 0.0667, 0.0000, 0.0000,\n",
              "          0.0000, 0.0000, 0.0000, 0.0000],\n",
              "         [0.0000, 0.0000, 0.0000, 0.0039, 0.0000, 0.1373, 0.8392, 0.7490,\n",
              "          0.7176, 0.6980, 0.6863, 0.6588, 0.5882, 0.6353, 0.6235, 0.5961,\n",
              "          0.6196, 0.7020, 0.7176, 0.7412, 0.7647, 0.7255, 0.3216, 0.0000,\n",
              "          0.0000, 0.0000, 0.0000, 0.0000],\n",
              "         [0.0000, 0.0000, 0.0000, 0.0000, 0.0000, 0.6667, 0.7451, 0.6745,\n",
              "          0.6941, 0.6902, 0.6706, 0.6627, 0.6353, 0.6078, 0.5804, 0.6039,\n",
              "          0.6627, 0.6824, 0.6863, 0.6863, 0.6941, 0.7176, 0.7373, 0.0471,\n",
              "          0.0000, 0.0000, 0.0000, 0.0000],\n",
              "         [0.0000, 0.0000, 0.0000, 0.0000, 0.0980, 0.7608, 0.7059, 0.6980,\n",
              "          0.6824, 0.7216, 0.7333, 0.7412, 0.7333, 0.7216, 0.7098, 0.7412,\n",
              "          0.7843, 0.7725, 0.7569, 0.7451, 0.6980, 0.6863, 0.7608, 0.3529,\n",
              "          0.0000, 0.0000, 0.0000, 0.0000],\n",
              "         [0.0000, 0.0000, 0.0000, 0.0000, 0.1647, 0.8549, 0.7490, 0.7725,\n",
              "          0.8157, 0.8000, 0.8275, 0.8196, 0.8235, 0.8314, 0.8275, 0.8392,\n",
              "          0.8431, 0.8353, 0.8392, 0.8275, 0.8275, 0.7490, 0.7843, 0.6196,\n",
              "          0.0000, 0.0000, 0.0000, 0.0000],\n",
              "         [0.0000, 0.0000, 0.0000, 0.0000, 0.3451, 0.8667, 0.8431, 0.8510,\n",
              "          0.8588, 0.8275, 0.7255, 0.5882, 0.4627, 0.4196, 0.3882, 0.3451,\n",
              "          0.3255, 0.3529, 0.5294, 0.8314, 0.7961, 0.8118, 0.8588, 0.6627,\n",
              "          0.0000, 0.0000, 0.0000, 0.0000],\n",
              "         [0.0000, 0.0000, 0.0000, 0.0000, 0.0000, 0.1059, 0.4627, 0.6353,\n",
              "          0.1569, 0.0000, 0.0000, 0.0000, 0.0392, 0.0745, 0.1098, 0.1529,\n",
              "          0.1843, 0.1412, 0.0000, 0.0000, 0.7961, 0.9020, 0.8627, 0.7961,\n",
              "          0.0000, 0.0000, 0.0000, 0.0000],\n",
              "         [0.0000, 0.0000, 0.0000, 0.0000, 0.5412, 0.5333, 0.2784, 0.2706,\n",
              "          0.2118, 0.8471, 0.8510, 0.7961, 0.7216, 0.6588, 0.6392, 0.6353,\n",
              "          0.6392, 0.6980, 0.8667, 0.7294, 0.1490, 0.1020, 0.0275, 0.0000,\n",
              "          0.0000, 0.0000, 0.0000, 0.0000],\n",
              "         [0.0000, 0.0000, 0.0000, 0.0000, 0.2627, 0.5255, 0.6039, 0.8784,\n",
              "          0.5059, 0.2588, 0.3176, 0.4588, 0.5059, 0.5020, 0.5176, 0.5373,\n",
              "          0.5137, 0.5059, 0.3373, 0.2863, 0.6157, 0.5922, 0.5255, 0.8471,\n",
              "          0.0706, 0.0000, 0.0000, 0.0000],\n",
              "         [0.0000, 0.0000, 0.0000, 0.0000, 0.7961, 0.7765, 0.6745, 0.7176,\n",
              "          0.8078, 1.0000, 1.0000, 0.9804, 0.9529, 0.9412, 0.9373, 0.9216,\n",
              "          0.9333, 0.9569, 1.0000, 0.9333, 0.7216, 0.6275, 0.3373, 0.3843,\n",
              "          0.0000, 0.0000, 0.0000, 0.0000],\n",
              "         [0.0000, 0.0000, 0.0000, 0.0000, 0.4784, 0.7373, 0.8784, 0.5922,\n",
              "          0.4118, 0.4980, 0.3804, 0.3922, 0.4118, 0.4471, 0.4588, 0.4588,\n",
              "          0.4431, 0.4039, 0.3843, 0.4353, 0.5569, 0.9961, 0.7490, 1.0000,\n",
              "          0.1922, 0.0000, 0.0000, 0.0000],\n",
              "         [0.0000, 0.0000, 0.0000, 0.0000, 0.6392, 0.7020, 0.7843, 0.3725,\n",
              "          0.6039, 0.7765, 0.7725, 0.7843, 0.7843, 0.7765, 0.7725, 0.7765,\n",
              "          0.7804, 0.7922, 0.7843, 0.6902, 0.3373, 0.8078, 0.6157, 0.6353,\n",
              "          0.0392, 0.0000, 0.0000, 0.0000],\n",
              "         [0.0000, 0.0000, 0.0000, 0.0000, 0.7725, 0.7882, 0.8980, 0.2784,\n",
              "          0.5647, 0.7608, 0.7098, 0.7176, 0.7020, 0.7137, 0.7059, 0.7020,\n",
              "          0.7059, 0.7451, 0.7255, 0.7725, 0.2980, 0.8588, 0.7255, 0.7882,\n",
              "          0.1333, 0.0000, 0.0000, 0.0000],\n",
              "         [0.0000, 0.0000, 0.0000, 0.0000, 0.7804, 0.7569, 0.8863, 0.2275,\n",
              "          0.6039, 0.7529, 0.7216, 0.7333, 0.7216, 0.7294, 0.7216, 0.7255,\n",
              "          0.7176, 0.7529, 0.7490, 0.7843, 0.2196, 0.8588, 0.7961, 0.8118,\n",
              "          0.2353, 0.0000, 0.0000, 0.0000],\n",
              "         [0.0000, 0.0000, 0.0000, 0.0000, 0.7882, 0.7608, 0.8784, 0.1608,\n",
              "          0.6392, 0.7451, 0.7294, 0.7294, 0.7216, 0.7255, 0.7176, 0.7255,\n",
              "          0.6980, 0.7451, 0.7608, 0.7922, 0.1294, 0.8275, 0.7843, 0.8078,\n",
              "          0.2863, 0.0000, 0.0000, 0.0000],\n",
              "         [0.0000, 0.0000, 0.0000, 0.0000, 0.7882, 0.7725, 0.8706, 0.0667,\n",
              "          0.6745, 0.7451, 0.7294, 0.7333, 0.7137, 0.7294, 0.7255, 0.7333,\n",
              "          0.7059, 0.7333, 0.7569, 0.7922, 0.1020, 0.8314, 0.7922, 0.7961,\n",
              "          0.2980, 0.0000, 0.0000, 0.0000],\n",
              "         [0.0000, 0.0000, 0.0000, 0.0000, 0.7843, 0.7725, 0.8745, 0.0000,\n",
              "          0.6941, 0.7412, 0.7216, 0.7255, 0.6980, 0.7216, 0.7176, 0.7216,\n",
              "          0.7059, 0.7176, 0.7412, 0.7961, 0.1373, 0.7686, 0.7961, 0.7961,\n",
              "          0.3294, 0.0000, 0.0000, 0.0000],\n",
              "         [0.0000, 0.0000, 0.0000, 0.0000, 0.7843, 0.7725, 0.8745, 0.0000,\n",
              "          0.7255, 0.7333, 0.7255, 0.7333, 0.7059, 0.7216, 0.7137, 0.7176,\n",
              "          0.6980, 0.7137, 0.7176, 0.8039, 0.1725, 0.6235, 0.8118, 0.7882,\n",
              "          0.3333, 0.0000, 0.0000, 0.0000],\n",
              "         [0.0000, 0.0000, 0.0000, 0.0000, 0.7333, 0.7765, 0.8824, 0.0000,\n",
              "          0.7608, 0.7373, 0.7216, 0.7255, 0.7059, 0.7176, 0.7176, 0.7216,\n",
              "          0.7098, 0.7098, 0.6941, 0.8078, 0.1804, 0.5059, 0.8275, 0.7843,\n",
              "          0.3451, 0.0000, 0.0000, 0.0000],\n",
              "         [0.0000, 0.0000, 0.0000, 0.0235, 0.7294, 0.7843, 0.8275, 0.0000,\n",
              "          0.7804, 0.7412, 0.7216, 0.7216, 0.7255, 0.7137, 0.7176, 0.7216,\n",
              "          0.7255, 0.7137, 0.6863, 0.8039, 0.1961, 0.3804, 0.8471, 0.7725,\n",
              "          0.3647, 0.0000, 0.0000, 0.0000],\n",
              "         [0.0000, 0.0000, 0.0000, 0.0196, 0.7255, 0.8000, 0.7216, 0.0000,\n",
              "          0.7922, 0.7373, 0.7137, 0.7137, 0.7176, 0.7176, 0.7216, 0.7137,\n",
              "          0.7059, 0.7137, 0.6824, 0.7922, 0.2471, 0.2314, 0.8627, 0.7686,\n",
              "          0.3686, 0.0000, 0.0000, 0.0000],\n",
              "         [0.0000, 0.0000, 0.0000, 0.0196, 0.7216, 0.8078, 0.6157, 0.0000,\n",
              "          0.8000, 0.7333, 0.7333, 0.7412, 0.7529, 0.7451, 0.7451, 0.7490,\n",
              "          0.7451, 0.7333, 0.7176, 0.7922, 0.3059, 0.1373, 0.8706, 0.7725,\n",
              "          0.3725, 0.0000, 0.0000, 0.0000],\n",
              "         [0.0000, 0.0000, 0.0000, 0.0196, 0.7176, 0.8157, 0.4980, 0.0000,\n",
              "          0.7725, 0.6510, 0.6000, 0.5843, 0.5843, 0.5725, 0.5804, 0.5843,\n",
              "          0.5882, 0.5922, 0.6196, 0.7490, 0.3529, 0.0314, 0.8745, 0.7647,\n",
              "          0.3882, 0.0000, 0.0000, 0.0000],\n",
              "         [0.0000, 0.0000, 0.0000, 0.0235, 0.7216, 0.8157, 0.4471, 0.0000,\n",
              "          0.8000, 0.6784, 0.6314, 0.7059, 0.6902, 0.6745, 0.6784, 0.6784,\n",
              "          0.6824, 0.6902, 0.6353, 0.7922, 0.4510, 0.0000, 0.8980, 0.7804,\n",
              "          0.4118, 0.0000, 0.0000, 0.0000],\n",
              "         [0.0000, 0.0000, 0.0000, 0.0353, 0.6980, 0.8000, 0.4510, 0.0000,\n",
              "          0.4745, 0.5294, 0.4471, 0.4588, 0.4471, 0.4471, 0.4588, 0.4627,\n",
              "          0.4667, 0.4588, 0.4431, 0.5765, 0.2471, 0.0000, 0.8824, 0.7686,\n",
              "          0.4196, 0.0000, 0.0000, 0.0000],\n",
              "         [0.0000, 0.0000, 0.0000, 0.0706, 0.7059, 0.8078, 0.5137, 0.0000,\n",
              "          0.0000, 0.0000, 0.0000, 0.0000, 0.0000, 0.0000, 0.0000, 0.0000,\n",
              "          0.0000, 0.0000, 0.0000, 0.0000, 0.0000, 0.0000, 0.8784, 0.7725,\n",
              "          0.4824, 0.0000, 0.0000, 0.0000],\n",
              "         [0.0000, 0.0000, 0.0000, 0.0000, 0.5529, 0.5922, 0.2980, 0.0000,\n",
              "          0.0039, 0.0039, 0.0000, 0.0000, 0.0000, 0.0000, 0.0000, 0.0000,\n",
              "          0.0000, 0.0000, 0.0000, 0.0000, 0.0000, 0.0000, 0.5216, 0.6549,\n",
              "          0.2863, 0.0000, 0.0000, 0.0000]]])"
            ]
          },
          "metadata": {},
          "execution_count": 60
        }
      ]
    },
    {
      "cell_type": "code",
      "source": [
        "label"
      ],
      "metadata": {
        "colab": {
          "base_uri": "https://localhost:8080/"
        },
        "id": "Fj5jiqJXCb_p",
        "outputId": "faed09a9-6fb8-42af-a8e3-7094cfda2d05"
      },
      "execution_count": 61,
      "outputs": [
        {
          "output_type": "execute_result",
          "data": {
            "text/plain": [
              "tensor([0., 0., 1., 0., 0., 0., 0., 0., 0., 0.])"
            ]
          },
          "metadata": {},
          "execution_count": 61
        }
      ]
    },
    {
      "cell_type": "markdown",
      "source": [
        "# Build Models"
      ],
      "metadata": {
        "id": "HSiAQQwj8Pyd"
      }
    },
    {
      "cell_type": "code",
      "source": [
        "model"
      ],
      "metadata": {
        "id": "sJaQdfq-8STg",
        "colab": {
          "base_uri": "https://localhost:8080/"
        },
        "outputId": "f576b232-2a98-4491-9154-6207a05fb34c"
      },
      "execution_count": 62,
      "outputs": [
        {
          "output_type": "execute_result",
          "data": {
            "text/plain": [
              "NeuralNetwork(\n",
              "  (flatten): Flatten(start_dim=1, end_dim=-1)\n",
              "  (linear_relu_stack): Sequential(\n",
              "    (0): Linear(in_features=784, out_features=512, bias=True)\n",
              "    (1): ReLU()\n",
              "    (2): Linear(in_features=512, out_features=512, bias=True)\n",
              "    (3): ReLU()\n",
              "    (4): Linear(in_features=512, out_features=10, bias=True)\n",
              "  )\n",
              ")"
            ]
          },
          "metadata": {},
          "execution_count": 62
        }
      ]
    },
    {
      "cell_type": "code",
      "source": [
        "for name, param in model.named_parameters():\n",
        "    print(f\"Layer: {name} | Size: {param.size()} | Values : {param[:2]} \\n\")"
      ],
      "metadata": {
        "colab": {
          "base_uri": "https://localhost:8080/"
        },
        "id": "dG4YIyUYC4kP",
        "outputId": "65bfa9e1-e58f-466c-948f-5f0bcbf410f1"
      },
      "execution_count": 63,
      "outputs": [
        {
          "output_type": "stream",
          "name": "stdout",
          "text": [
            "Layer: linear_relu_stack.0.weight | Size: torch.Size([512, 784]) | Values : tensor([[-0.0271,  0.0040, -0.0092,  ...,  0.0277,  0.0094, -0.0130],\n",
            "        [-0.0306, -0.0140,  0.0224,  ..., -0.0163,  0.0245,  0.0003]],\n",
            "       device='cuda:0', grad_fn=<SliceBackward0>) \n",
            "\n",
            "Layer: linear_relu_stack.0.bias | Size: torch.Size([512]) | Values : tensor([0.0044, 0.0008], device='cuda:0', grad_fn=<SliceBackward0>) \n",
            "\n",
            "Layer: linear_relu_stack.2.weight | Size: torch.Size([512, 512]) | Values : tensor([[-0.0224, -0.0313, -0.0375,  ...,  0.0125, -0.0292, -0.0291],\n",
            "        [-0.0439, -0.0372,  0.0123,  ...,  0.0169, -0.0247,  0.0432]],\n",
            "       device='cuda:0', grad_fn=<SliceBackward0>) \n",
            "\n",
            "Layer: linear_relu_stack.2.bias | Size: torch.Size([512]) | Values : tensor([-0.0472, -0.0273], device='cuda:0', grad_fn=<SliceBackward0>) \n",
            "\n",
            "Layer: linear_relu_stack.4.weight | Size: torch.Size([10, 512]) | Values : tensor([[-0.0171,  0.0580,  0.0244,  ...,  0.0348,  0.0119, -0.0610],\n",
            "        [ 0.0201,  0.0410, -0.0332,  ..., -0.0563, -0.0663, -0.0628]],\n",
            "       device='cuda:0', grad_fn=<SliceBackward0>) \n",
            "\n",
            "Layer: linear_relu_stack.4.bias | Size: torch.Size([10]) | Values : tensor([0.0091, 0.0308], device='cuda:0', grad_fn=<SliceBackward0>) \n",
            "\n"
          ]
        }
      ]
    },
    {
      "cell_type": "markdown",
      "source": [
        "# Autograd"
      ],
      "metadata": {
        "id": "aANRdk33EKbK"
      }
    },
    {
      "cell_type": "code",
      "source": [
        "import torch\n",
        "\n",
        "x = torch.ones(5)\n",
        "y = torch.zeros(3)\n",
        "\n",
        "w = torch.randn(5, 3, requires_grad=True)\n",
        "b = torch.randn(3, requires_grad=True)\n",
        "z = torch.matmul(x, w) + b\n",
        "\n",
        "loss = torch.nn.functional.binary_cross_entropy_with_logits(z, y)"
      ],
      "metadata": {
        "id": "joQX0FwhDKGT"
      },
      "execution_count": 1,
      "outputs": []
    },
    {
      "cell_type": "code",
      "source": [
        "loss.item()"
      ],
      "metadata": {
        "colab": {
          "base_uri": "https://localhost:8080/"
        },
        "id": "bgoh7hxjEZRi",
        "outputId": "f9c2bcac-cc7a-49c4-b05b-d0c02f8ae1ed"
      },
      "execution_count": 2,
      "outputs": [
        {
          "output_type": "execute_result",
          "data": {
            "text/plain": [
              "0.8250317573547363"
            ]
          },
          "metadata": {},
          "execution_count": 2
        }
      ]
    },
    {
      "cell_type": "code",
      "source": [
        "z.grad_fn"
      ],
      "metadata": {
        "colab": {
          "base_uri": "https://localhost:8080/"
        },
        "id": "5ZEqj4d3EcXn",
        "outputId": "47676c91-9beb-402d-9a79-8975238a7300"
      },
      "execution_count": 3,
      "outputs": [
        {
          "output_type": "execute_result",
          "data": {
            "text/plain": [
              "<AddBackward0 at 0x79476bc82770>"
            ]
          },
          "metadata": {},
          "execution_count": 3
        }
      ]
    },
    {
      "cell_type": "code",
      "source": [
        "loss.grad_fn"
      ],
      "metadata": {
        "colab": {
          "base_uri": "https://localhost:8080/"
        },
        "id": "7Qs-1rXgEiG3",
        "outputId": "0eccc539-c8cc-41b9-f431-282ca26734e0"
      },
      "execution_count": 4,
      "outputs": [
        {
          "output_type": "execute_result",
          "data": {
            "text/plain": [
              "<BinaryCrossEntropyWithLogitsBackward0 at 0x79476bc82c20>"
            ]
          },
          "metadata": {},
          "execution_count": 4
        }
      ]
    },
    {
      "cell_type": "code",
      "source": [
        "w.grad"
      ],
      "metadata": {
        "id": "ovDXSq4zEkIg"
      },
      "execution_count": 5,
      "outputs": []
    },
    {
      "cell_type": "code",
      "source": [
        "loss.backward()\n",
        "\n",
        "w.grad"
      ],
      "metadata": {
        "colab": {
          "base_uri": "https://localhost:8080/"
        },
        "id": "ey7Q8jRIEkBZ",
        "outputId": "a237fb75-1c8e-4661-d54c-cb42ad8fb8ad"
      },
      "execution_count": 6,
      "outputs": [
        {
          "output_type": "execute_result",
          "data": {
            "text/plain": [
              "tensor([[0.2149, 0.2531, 0.0055],\n",
              "        [0.2149, 0.2531, 0.0055],\n",
              "        [0.2149, 0.2531, 0.0055],\n",
              "        [0.2149, 0.2531, 0.0055],\n",
              "        [0.2149, 0.2531, 0.0055]])"
            ]
          },
          "metadata": {},
          "execution_count": 6
        }
      ]
    },
    {
      "cell_type": "code",
      "source": [
        "b.grad"
      ],
      "metadata": {
        "colab": {
          "base_uri": "https://localhost:8080/"
        },
        "id": "DYpSoXyJEy9l",
        "outputId": "abfdbf4c-c853-419b-9290-3cf97ca4b275"
      },
      "execution_count": 7,
      "outputs": [
        {
          "output_type": "execute_result",
          "data": {
            "text/plain": [
              "tensor([0.2149, 0.2531, 0.0055])"
            ]
          },
          "metadata": {},
          "execution_count": 7
        }
      ]
    },
    {
      "cell_type": "code",
      "source": [
        "z = torch.matmul(x, w)+b\n",
        "print(z.requires_grad)"
      ],
      "metadata": {
        "colab": {
          "base_uri": "https://localhost:8080/"
        },
        "id": "03j3f8gkF0NA",
        "outputId": "eacaa2d8-0899-4611-a0ed-ae5a6c358f90"
      },
      "execution_count": 8,
      "outputs": [
        {
          "output_type": "stream",
          "name": "stdout",
          "text": [
            "True\n"
          ]
        }
      ]
    },
    {
      "cell_type": "code",
      "source": [
        "with torch.no_grad():\n",
        "    z = torch.matmul(x, w) + b\n",
        "print(z.requires_grad)"
      ],
      "metadata": {
        "colab": {
          "base_uri": "https://localhost:8080/"
        },
        "id": "uGffNyjlFz_c",
        "outputId": "e1ea7fee-af9b-4038-bcc7-7917ce572020"
      },
      "execution_count": 9,
      "outputs": [
        {
          "output_type": "stream",
          "name": "stdout",
          "text": [
            "False\n"
          ]
        }
      ]
    },
    {
      "cell_type": "code",
      "source": [
        "print(b.requires_grad)\n",
        "\n",
        "b_ = b.detach()\n",
        "\n",
        "b_.requires_grad"
      ],
      "metadata": {
        "colab": {
          "base_uri": "https://localhost:8080/"
        },
        "id": "uu80fB5XfbJ1",
        "outputId": "c4e6b667-20ab-4d5b-ec81-932ca855718a"
      },
      "execution_count": 11,
      "outputs": [
        {
          "output_type": "stream",
          "name": "stdout",
          "text": [
            "True\n"
          ]
        },
        {
          "output_type": "execute_result",
          "data": {
            "text/plain": [
              "False"
            ]
          },
          "metadata": {},
          "execution_count": 11
        }
      ]
    },
    {
      "cell_type": "code",
      "source": [
        "inp = torch.eye(5, requires_grad=True)\n",
        "out = (inp+1).pow(2)\n",
        "\n",
        "out.backward(torch.ones_like(out), retain_graph=True)\n",
        "print(f\"First call\\n{inp.grad}\")\n",
        "\n",
        "out.backward(torch.ones_like(out), retain_graph=True)\n",
        "print(f\"\\nSecond call\\n{inp.grad}\")\n",
        "\n",
        "inp.grad.zero_()\n",
        "out.backward(torch.ones_like(out), retain_graph=True)\n",
        "print(f\"\\nCall after zeroing gradients\\n{inp.grad}\")"
      ],
      "metadata": {
        "colab": {
          "base_uri": "https://localhost:8080/"
        },
        "id": "NUqm9z2rfbBV",
        "outputId": "af698dee-ef39-4457-e7f3-38000559b1a7"
      },
      "execution_count": 12,
      "outputs": [
        {
          "output_type": "stream",
          "name": "stdout",
          "text": [
            "First call\n",
            "tensor([[4., 2., 2., 2., 2.],\n",
            "        [2., 4., 2., 2., 2.],\n",
            "        [2., 2., 4., 2., 2.],\n",
            "        [2., 2., 2., 4., 2.],\n",
            "        [2., 2., 2., 2., 4.]])\n",
            "\n",
            "Second call\n",
            "tensor([[8., 4., 4., 4., 4.],\n",
            "        [4., 8., 4., 4., 4.],\n",
            "        [4., 4., 8., 4., 4.],\n",
            "        [4., 4., 4., 8., 4.],\n",
            "        [4., 4., 4., 4., 8.]])\n",
            "\n",
            "Call after zeroing gradients\n",
            "tensor([[4., 2., 2., 2., 2.],\n",
            "        [2., 4., 2., 2., 2.],\n",
            "        [2., 2., 4., 2., 2.],\n",
            "        [2., 2., 2., 4., 2.],\n",
            "        [2., 2., 2., 2., 4.]])\n"
          ]
        }
      ]
    },
    {
      "cell_type": "markdown",
      "source": [
        "# Optimization"
      ],
      "metadata": {
        "id": "JrKnf-SJ8TRP"
      }
    },
    {
      "cell_type": "code",
      "source": [
        "import torch\n",
        "from torch import nn\n",
        "from torch.utils.data import DataLoader\n",
        "from torchvision import datasets\n",
        "from torchvision.transforms import ToTensor\n",
        "\n",
        "training_data = datasets.FashionMNIST(\n",
        "    root=\"data\",\n",
        "    train=True,\n",
        "    download=True,\n",
        "    transform=ToTensor()\n",
        ")\n",
        "\n",
        "test_data = datasets.FashionMNIST(\n",
        "    root=\"data\",\n",
        "    train=False,\n",
        "    download=True,\n",
        "    transform=ToTensor()\n",
        ")\n",
        "\n",
        "train_dataloader = DataLoader(training_data, batch_size=64)\n",
        "test_dataloader = DataLoader(test_data, batch_size=64)\n",
        "\n",
        "class NeuralNetwork(nn.Module):\n",
        "    def __init__(self):\n",
        "        super().__init__()\n",
        "        self.flatten = nn.Flatten()\n",
        "        self.linear_relu_stack = nn.Sequential(\n",
        "            nn.Linear(28*28, 512),\n",
        "            nn.ReLU(),\n",
        "            nn.Linear(512, 512),\n",
        "            nn.ReLU(),\n",
        "            nn.Linear(512, 10),\n",
        "        )\n",
        "\n",
        "    def forward(self, x):\n",
        "        x = self.flatten(x)\n",
        "        logits = self.linear_relu_stack(x)\n",
        "        return logits\n",
        "\n",
        "model = NeuralNetwork()"
      ],
      "metadata": {
        "id": "A9CFykmD8UWZ",
        "colab": {
          "base_uri": "https://localhost:8080/"
        },
        "outputId": "c3ca5ea5-ca76-497c-b9f1-655261fbe827"
      },
      "execution_count": 13,
      "outputs": [
        {
          "output_type": "stream",
          "name": "stdout",
          "text": [
            "Downloading http://fashion-mnist.s3-website.eu-central-1.amazonaws.com/train-images-idx3-ubyte.gz\n",
            "Downloading http://fashion-mnist.s3-website.eu-central-1.amazonaws.com/train-images-idx3-ubyte.gz to data/FashionMNIST/raw/train-images-idx3-ubyte.gz\n"
          ]
        },
        {
          "output_type": "stream",
          "name": "stderr",
          "text": [
            "100%|██████████| 26421880/26421880 [00:14<00:00, 1825288.96it/s]\n"
          ]
        },
        {
          "output_type": "stream",
          "name": "stdout",
          "text": [
            "Extracting data/FashionMNIST/raw/train-images-idx3-ubyte.gz to data/FashionMNIST/raw\n",
            "\n",
            "Downloading http://fashion-mnist.s3-website.eu-central-1.amazonaws.com/train-labels-idx1-ubyte.gz\n",
            "Downloading http://fashion-mnist.s3-website.eu-central-1.amazonaws.com/train-labels-idx1-ubyte.gz to data/FashionMNIST/raw/train-labels-idx1-ubyte.gz\n"
          ]
        },
        {
          "output_type": "stream",
          "name": "stderr",
          "text": [
            "100%|██████████| 29515/29515 [00:00<00:00, 61169.19it/s]\n"
          ]
        },
        {
          "output_type": "stream",
          "name": "stdout",
          "text": [
            "Extracting data/FashionMNIST/raw/train-labels-idx1-ubyte.gz to data/FashionMNIST/raw\n",
            "\n",
            "Downloading http://fashion-mnist.s3-website.eu-central-1.amazonaws.com/t10k-images-idx3-ubyte.gz\n",
            "Downloading http://fashion-mnist.s3-website.eu-central-1.amazonaws.com/t10k-images-idx3-ubyte.gz to data/FashionMNIST/raw/t10k-images-idx3-ubyte.gz\n"
          ]
        },
        {
          "output_type": "stream",
          "name": "stderr",
          "text": [
            "100%|██████████| 4422102/4422102 [00:09<00:00, 482070.28it/s] \n"
          ]
        },
        {
          "output_type": "stream",
          "name": "stdout",
          "text": [
            "Extracting data/FashionMNIST/raw/t10k-images-idx3-ubyte.gz to data/FashionMNIST/raw\n",
            "\n",
            "Downloading http://fashion-mnist.s3-website.eu-central-1.amazonaws.com/t10k-labels-idx1-ubyte.gz\n",
            "Downloading http://fashion-mnist.s3-website.eu-central-1.amazonaws.com/t10k-labels-idx1-ubyte.gz to data/FashionMNIST/raw/t10k-labels-idx1-ubyte.gz\n"
          ]
        },
        {
          "output_type": "stream",
          "name": "stderr",
          "text": [
            "100%|██████████| 5148/5148 [00:00<00:00, 8595651.67it/s]"
          ]
        },
        {
          "output_type": "stream",
          "name": "stdout",
          "text": [
            "Extracting data/FashionMNIST/raw/t10k-labels-idx1-ubyte.gz to data/FashionMNIST/raw\n",
            "\n"
          ]
        },
        {
          "output_type": "stream",
          "name": "stderr",
          "text": [
            "\n"
          ]
        }
      ]
    },
    {
      "cell_type": "code",
      "source": [
        "def train_loop(dataloader, model, loss_fn, optimizer, batch_size, device):\n",
        "    size = len(dataloader.dataset)\n",
        "    # Set the model to training mode - important for batch normalization and dropout layers\n",
        "    # Unnecessary in this situation but added for best practices\n",
        "    model.train()\n",
        "    for batch, (X, y) in enumerate(dataloader):\n",
        "        X, y = X.to(device), y.to(device)\n",
        "        # Compute prediction and loss\n",
        "        pred = model(X)\n",
        "        loss = loss_fn(pred, y)\n",
        "\n",
        "\n",
        "        # Backpropagation\n",
        "        loss.backward()\n",
        "        optimizer.step()\n",
        "        optimizer.zero_grad()\n",
        "\n",
        "        if batch % 100 == 0:\n",
        "            loss, current = loss.item(), batch * batch_size + len(X)\n",
        "            print(f\"loss: {loss:>7f}  [{current:>5d}/{size:>5d}]\")\n",
        "\n",
        "\n",
        "def test_loop(dataloader, model, loss_fn):\n",
        "    # Set the model to evaluation mode - important for batch normalization and dropout layers\n",
        "    # Unnecessary in this situation but added for best practices\n",
        "    model.eval()\n",
        "    size = len(dataloader.dataset)\n",
        "    num_batches = len(dataloader)\n",
        "    test_loss, correct = 0, 0\n",
        "\n",
        "    # Evaluating the model with torch.no_grad() ensures that no gradients are computed during test mode\n",
        "    # also serves to reduce unnecessary gradient computations and memory usage for tensors with requires_grad=True\n",
        "    with torch.no_grad():\n",
        "        for X, y in dataloader:\n",
        "            X, y = X.to(device), y.to(device)\n",
        "            pred = model(X)\n",
        "            test_loss += loss_fn(pred, y).item()\n",
        "            correct += (pred.argmax(1) == y).type(torch.float).sum().item()\n",
        "\n",
        "    test_loss /= num_batches\n",
        "    correct /= size\n",
        "    print(f\"Test Error: \\n Accuracy: {(100*correct):>0.1f}%, Avg loss: {test_loss:>8f} \\n\")"
      ],
      "metadata": {
        "id": "FggNvOUEmxfV"
      },
      "execution_count": 23,
      "outputs": []
    },
    {
      "cell_type": "code",
      "source": [
        "learning_rate = 1e-3\n",
        "epochs = 10\n",
        "batch_size = 64\n",
        "\n",
        "device = 'cuda' if torch.cuda.is_available() else 'cpu'\n",
        "\n",
        "model = NeuralNetwork().to(device)\n",
        "\n",
        "loss_fn = nn.CrossEntropyLoss()\n",
        "optimizer = torch.optim.SGD(model.parameters(), lr=learning_rate)\n",
        "\n",
        "for t in range(epochs):\n",
        "    print(f\"Epoch {t+1}\\n-------------------------------\")\n",
        "    train_loop(train_dataloader, model, loss_fn, optimizer, batch_size, device)\n",
        "    test_loop(test_dataloader, model, loss_fn)\n",
        "print(\"Done!\")"
      ],
      "metadata": {
        "colab": {
          "base_uri": "https://localhost:8080/"
        },
        "id": "rxdJnOnQnXor",
        "outputId": "31442d11-7b5e-41e0-fd9d-207944947137"
      },
      "execution_count": 24,
      "outputs": [
        {
          "output_type": "stream",
          "name": "stdout",
          "text": [
            "Epoch 1\n",
            "-------------------------------\n",
            "loss: 2.300493  [   64/60000]\n",
            "loss: 2.288637  [ 6464/60000]\n",
            "loss: 2.274335  [12864/60000]\n",
            "loss: 2.270388  [19264/60000]\n",
            "loss: 2.256872  [25664/60000]\n",
            "loss: 2.214156  [32064/60000]\n",
            "loss: 2.222351  [38464/60000]\n",
            "loss: 2.184613  [44864/60000]\n",
            "loss: 2.188740  [51264/60000]\n",
            "loss: 2.153836  [57664/60000]\n",
            "Test Error: \n",
            " Accuracy: 48.1%, Avg loss: 2.149692 \n",
            "\n",
            "Epoch 2\n",
            "-------------------------------\n",
            "loss: 2.156196  [   64/60000]\n",
            "loss: 2.146082  [ 6464/60000]\n",
            "loss: 2.093273  [12864/60000]\n",
            "loss: 2.111932  [19264/60000]\n",
            "loss: 2.050846  [25664/60000]\n",
            "loss: 1.979952  [32064/60000]\n",
            "loss: 2.008102  [38464/60000]\n",
            "loss: 1.926511  [44864/60000]\n",
            "loss: 1.940973  [51264/60000]\n",
            "loss: 1.854301  [57664/60000]\n",
            "Test Error: \n",
            " Accuracy: 57.5%, Avg loss: 1.862960 \n",
            "\n",
            "Epoch 3\n",
            "-------------------------------\n",
            "loss: 1.893671  [   64/60000]\n",
            "loss: 1.859826  [ 6464/60000]\n",
            "loss: 1.757368  [12864/60000]\n",
            "loss: 1.797770  [19264/60000]\n",
            "loss: 1.670541  [25664/60000]\n",
            "loss: 1.623717  [32064/60000]\n",
            "loss: 1.647517  [38464/60000]\n",
            "loss: 1.559487  [44864/60000]\n",
            "loss: 1.587359  [51264/60000]\n",
            "loss: 1.469722  [57664/60000]\n",
            "Test Error: \n",
            " Accuracy: 62.2%, Avg loss: 1.498176 \n",
            "\n",
            "Epoch 4\n",
            "-------------------------------\n",
            "loss: 1.559944  [   64/60000]\n",
            "loss: 1.523525  [ 6464/60000]\n",
            "loss: 1.392663  [12864/60000]\n",
            "loss: 1.459672  [19264/60000]\n",
            "loss: 1.331720  [25664/60000]\n",
            "loss: 1.326921  [32064/60000]\n",
            "loss: 1.345656  [38464/60000]\n",
            "loss: 1.281463  [44864/60000]\n",
            "loss: 1.315118  [51264/60000]\n",
            "loss: 1.210849  [57664/60000]\n",
            "Test Error: \n",
            " Accuracy: 64.7%, Avg loss: 1.237568 \n",
            "\n",
            "Epoch 5\n",
            "-------------------------------\n",
            "loss: 1.306118  [   64/60000]\n",
            "loss: 1.287990  [ 6464/60000]\n",
            "loss: 1.139220  [12864/60000]\n",
            "loss: 1.240509  [19264/60000]\n",
            "loss: 1.108713  [25664/60000]\n",
            "loss: 1.126619  [32064/60000]\n",
            "loss: 1.157561  [38464/60000]\n",
            "loss: 1.103176  [44864/60000]\n",
            "loss: 1.142864  [51264/60000]\n",
            "loss: 1.055855  [57664/60000]\n",
            "Test Error: \n",
            " Accuracy: 65.5%, Avg loss: 1.073528 \n",
            "\n",
            "Epoch 6\n",
            "-------------------------------\n",
            "loss: 1.134426  [   64/60000]\n",
            "loss: 1.138809  [ 6464/60000]\n",
            "loss: 0.971506  [12864/60000]\n",
            "loss: 1.102527  [19264/60000]\n",
            "loss: 0.967912  [25664/60000]\n",
            "loss: 0.991275  [32064/60000]\n",
            "loss: 1.039781  [38464/60000]\n",
            "loss: 0.988549  [44864/60000]\n",
            "loss: 1.029234  [51264/60000]\n",
            "loss: 0.957624  [57664/60000]\n",
            "Test Error: \n",
            " Accuracy: 66.4%, Avg loss: 0.967121 \n",
            "\n",
            "Epoch 7\n",
            "-------------------------------\n",
            "loss: 1.014558  [   64/60000]\n",
            "loss: 1.042463  [ 6464/60000]\n",
            "loss: 0.856871  [12864/60000]\n",
            "loss: 1.010851  [19264/60000]\n",
            "loss: 0.877747  [25664/60000]\n",
            "loss: 0.897628  [32064/60000]\n",
            "loss: 0.962254  [38464/60000]\n",
            "loss: 0.914153  [44864/60000]\n",
            "loss: 0.951237  [51264/60000]\n",
            "loss: 0.892129  [57664/60000]\n",
            "Test Error: \n",
            " Accuracy: 67.5%, Avg loss: 0.895467 \n",
            "\n",
            "Epoch 8\n",
            "-------------------------------\n",
            "loss: 0.927817  [   64/60000]\n",
            "loss: 0.977210  [ 6464/60000]\n",
            "loss: 0.775884  [12864/60000]\n",
            "loss: 0.947640  [19264/60000]\n",
            "loss: 0.818323  [25664/60000]\n",
            "loss: 0.831145  [32064/60000]\n",
            "loss: 0.908008  [38464/60000]\n",
            "loss: 0.864710  [44864/60000]\n",
            "loss: 0.896231  [51264/60000]\n",
            "loss: 0.845650  [57664/60000]\n",
            "Test Error: \n",
            " Accuracy: 68.6%, Avg loss: 0.844937 \n",
            "\n",
            "Epoch 9\n",
            "-------------------------------\n",
            "loss: 0.862586  [   64/60000]\n",
            "loss: 0.929219  [ 6464/60000]\n",
            "loss: 0.716192  [12864/60000]\n",
            "loss: 0.902091  [19264/60000]\n",
            "loss: 0.776930  [25664/60000]\n",
            "loss: 0.782482  [32064/60000]\n",
            "loss: 0.867088  [38464/60000]\n",
            "loss: 0.830348  [44864/60000]\n",
            "loss: 0.855696  [51264/60000]\n",
            "loss: 0.810472  [57664/60000]\n",
            "Test Error: \n",
            " Accuracy: 69.7%, Avg loss: 0.807247 \n",
            "\n",
            "Epoch 10\n",
            "-------------------------------\n",
            "loss: 0.811129  [   64/60000]\n",
            "loss: 0.890944  [ 6464/60000]\n",
            "loss: 0.669937  [12864/60000]\n",
            "loss: 0.867656  [19264/60000]\n",
            "loss: 0.746259  [25664/60000]\n",
            "loss: 0.745714  [32064/60000]\n",
            "loss: 0.833981  [38464/60000]\n",
            "loss: 0.804773  [44864/60000]\n",
            "loss: 0.824444  [51264/60000]\n",
            "loss: 0.782143  [57664/60000]\n",
            "Test Error: \n",
            " Accuracy: 71.0%, Avg loss: 0.777479 \n",
            "\n",
            "Done!\n"
          ]
        }
      ]
    },
    {
      "cell_type": "markdown",
      "source": [
        "# Save and Load Models\n",
        "\n",
        "\n",
        "Referências:\n",
        "1. <https://pytorch.org/tutorials/beginner/basics/saveloadrun_tutorial.html>\n",
        "2. <https://pytorch.org/tutorials/recipes/recipes/module_load_state_dict_tips.html>\n",
        "3. <https://pytorch.org/tutorials/recipes/recipes/saving_and_loading_a_general_checkpoint.html>"
      ],
      "metadata": {
        "id": "RNjK0Quo8VBP"
      }
    },
    {
      "cell_type": "code",
      "source": [
        "import torch\n",
        "import torchvision.models as models"
      ],
      "metadata": {
        "id": "VTvhDwgj8XJ5"
      },
      "execution_count": 1,
      "outputs": []
    },
    {
      "cell_type": "code",
      "source": [
        "vgg16 = models.vgg16(weights='IMAGENET1K_V1')"
      ],
      "metadata": {
        "colab": {
          "base_uri": "https://localhost:8080/"
        },
        "id": "uQyFJCo-ooiY",
        "outputId": "f0816451-59a6-4872-ba00-da0b7d21d2a5"
      },
      "execution_count": 2,
      "outputs": [
        {
          "output_type": "stream",
          "name": "stderr",
          "text": [
            "Downloading: \"https://download.pytorch.org/models/vgg16-397923af.pth\" to /root/.cache/torch/hub/checkpoints/vgg16-397923af.pth\n",
            "100%|██████████| 528M/528M [00:03<00:00, 142MB/s]\n"
          ]
        }
      ]
    },
    {
      "cell_type": "code",
      "source": [
        "torch.save(model.state_dict(), 'model_weights.pth')"
      ],
      "metadata": {
        "id": "7lOK_0cJooen"
      },
      "execution_count": null,
      "outputs": []
    },
    {
      "cell_type": "code",
      "source": [
        "torch.save(vgg16.state_dict(),'vgg16_weights.pth')"
      ],
      "metadata": {
        "id": "XLmgQPmko5qU"
      },
      "execution_count": 4,
      "outputs": []
    },
    {
      "cell_type": "code",
      "source": [
        "# be sure to call model.eval() method before inferencing\n",
        "# to set the dropout and batch normalization layers to evaluation mode.\n",
        "# Failing to do this will yield inconsistent inference results."
      ],
      "metadata": {
        "id": "kXrZDbLzo-b2"
      },
      "execution_count": 5,
      "outputs": []
    },
    {
      "cell_type": "code",
      "source": [
        "example = models.vgg16()\n",
        "\n",
        "example.load_state_dict(torch.load('vgg16_weights.pth'))\n",
        "\n",
        "example.eval()"
      ],
      "metadata": {
        "colab": {
          "base_uri": "https://localhost:8080/"
        },
        "id": "yCi5eRe_pGI3",
        "outputId": "26ebdc72-01dd-4cd4-e1fa-ef7949e00ce3"
      },
      "execution_count": 6,
      "outputs": [
        {
          "output_type": "execute_result",
          "data": {
            "text/plain": [
              "VGG(\n",
              "  (features): Sequential(\n",
              "    (0): Conv2d(3, 64, kernel_size=(3, 3), stride=(1, 1), padding=(1, 1))\n",
              "    (1): ReLU(inplace=True)\n",
              "    (2): Conv2d(64, 64, kernel_size=(3, 3), stride=(1, 1), padding=(1, 1))\n",
              "    (3): ReLU(inplace=True)\n",
              "    (4): MaxPool2d(kernel_size=2, stride=2, padding=0, dilation=1, ceil_mode=False)\n",
              "    (5): Conv2d(64, 128, kernel_size=(3, 3), stride=(1, 1), padding=(1, 1))\n",
              "    (6): ReLU(inplace=True)\n",
              "    (7): Conv2d(128, 128, kernel_size=(3, 3), stride=(1, 1), padding=(1, 1))\n",
              "    (8): ReLU(inplace=True)\n",
              "    (9): MaxPool2d(kernel_size=2, stride=2, padding=0, dilation=1, ceil_mode=False)\n",
              "    (10): Conv2d(128, 256, kernel_size=(3, 3), stride=(1, 1), padding=(1, 1))\n",
              "    (11): ReLU(inplace=True)\n",
              "    (12): Conv2d(256, 256, kernel_size=(3, 3), stride=(1, 1), padding=(1, 1))\n",
              "    (13): ReLU(inplace=True)\n",
              "    (14): Conv2d(256, 256, kernel_size=(3, 3), stride=(1, 1), padding=(1, 1))\n",
              "    (15): ReLU(inplace=True)\n",
              "    (16): MaxPool2d(kernel_size=2, stride=2, padding=0, dilation=1, ceil_mode=False)\n",
              "    (17): Conv2d(256, 512, kernel_size=(3, 3), stride=(1, 1), padding=(1, 1))\n",
              "    (18): ReLU(inplace=True)\n",
              "    (19): Conv2d(512, 512, kernel_size=(3, 3), stride=(1, 1), padding=(1, 1))\n",
              "    (20): ReLU(inplace=True)\n",
              "    (21): Conv2d(512, 512, kernel_size=(3, 3), stride=(1, 1), padding=(1, 1))\n",
              "    (22): ReLU(inplace=True)\n",
              "    (23): MaxPool2d(kernel_size=2, stride=2, padding=0, dilation=1, ceil_mode=False)\n",
              "    (24): Conv2d(512, 512, kernel_size=(3, 3), stride=(1, 1), padding=(1, 1))\n",
              "    (25): ReLU(inplace=True)\n",
              "    (26): Conv2d(512, 512, kernel_size=(3, 3), stride=(1, 1), padding=(1, 1))\n",
              "    (27): ReLU(inplace=True)\n",
              "    (28): Conv2d(512, 512, kernel_size=(3, 3), stride=(1, 1), padding=(1, 1))\n",
              "    (29): ReLU(inplace=True)\n",
              "    (30): MaxPool2d(kernel_size=2, stride=2, padding=0, dilation=1, ceil_mode=False)\n",
              "  )\n",
              "  (avgpool): AdaptiveAvgPool2d(output_size=(7, 7))\n",
              "  (classifier): Sequential(\n",
              "    (0): Linear(in_features=25088, out_features=4096, bias=True)\n",
              "    (1): ReLU(inplace=True)\n",
              "    (2): Dropout(p=0.5, inplace=False)\n",
              "    (3): Linear(in_features=4096, out_features=4096, bias=True)\n",
              "    (4): ReLU(inplace=True)\n",
              "    (5): Dropout(p=0.5, inplace=False)\n",
              "    (6): Linear(in_features=4096, out_features=1000, bias=True)\n",
              "  )\n",
              ")"
            ]
          },
          "metadata": {},
          "execution_count": 6
        }
      ]
    },
    {
      "cell_type": "markdown",
      "source": [
        "## Modo avançado"
      ],
      "metadata": {
        "id": "WGlkOAJxxQOx"
      }
    },
    {
      "cell_type": "code",
      "source": [
        "import torch\n",
        "import torch.nn as nn\n",
        "import torch.optim as optim"
      ],
      "metadata": {
        "id": "4D5RaJQkxP0B"
      },
      "execution_count": 7,
      "outputs": []
    },
    {
      "cell_type": "code",
      "source": [
        "class Net(nn.Module):\n",
        "    def __init__(self):\n",
        "        super(Net, self).__init__()\n",
        "        self.conv1 = nn.Conv2d(3, 6, 5)\n",
        "        self.pool = nn.MaxPool2d(2, 2)\n",
        "        self.conv2 = nn.Conv2d(6, 16, 5)\n",
        "        self.fc1 = nn.Linear(16 * 5 * 5, 120)\n",
        "        self.fc2 = nn.Linear(120, 84)\n",
        "        self.fc3 = nn.Linear(84, 10)\n",
        "\n",
        "    def forward(self, x):\n",
        "        x = self.pool(F.relu(self.conv1(x)))\n",
        "        x = self.pool(F.relu(self.conv2(x)))\n",
        "        x = x.view(-1, 16 * 5 * 5)\n",
        "        x = F.relu(self.fc1(x))\n",
        "        x = F.relu(self.fc2(x))\n",
        "        x = self.fc3(x)\n",
        "        return x\n",
        "\n",
        "net = Net()\n",
        "print(net)"
      ],
      "metadata": {
        "colab": {
          "base_uri": "https://localhost:8080/"
        },
        "id": "vC5jQcQ-p6Ye",
        "outputId": "8b3f87b1-f788-48f1-c534-767479842ee4"
      },
      "execution_count": 8,
      "outputs": [
        {
          "output_type": "stream",
          "name": "stdout",
          "text": [
            "Net(\n",
            "  (conv1): Conv2d(3, 6, kernel_size=(5, 5), stride=(1, 1))\n",
            "  (pool): MaxPool2d(kernel_size=2, stride=2, padding=0, dilation=1, ceil_mode=False)\n",
            "  (conv2): Conv2d(6, 16, kernel_size=(5, 5), stride=(1, 1))\n",
            "  (fc1): Linear(in_features=400, out_features=120, bias=True)\n",
            "  (fc2): Linear(in_features=120, out_features=84, bias=True)\n",
            "  (fc3): Linear(in_features=84, out_features=10, bias=True)\n",
            ")\n"
          ]
        }
      ]
    },
    {
      "cell_type": "code",
      "source": [
        "optimizer = optim.SGD(net.parameters(), lr=0.001, momentum=0.9)"
      ],
      "metadata": {
        "id": "mcy0rJphxkB4"
      },
      "execution_count": 9,
      "outputs": []
    },
    {
      "cell_type": "code",
      "source": [
        "# Additional information\n",
        "EPOCH = 5\n",
        "PATH = \"model.pt\"\n",
        "LOSS = 0.4\n",
        "\n",
        "torch.save({\n",
        "            'epoch': EPOCH,\n",
        "            'model_state_dict': net.state_dict(),\n",
        "            'optimizer_state_dict': optimizer.state_dict(),\n",
        "            'loss': LOSS,\n",
        "            }, PATH)"
      ],
      "metadata": {
        "id": "A-objo4Nxj8c"
      },
      "execution_count": 11,
      "outputs": []
    },
    {
      "cell_type": "code",
      "source": [
        "state_dict = torch.load(PATH, mmap=True)\n",
        "\n",
        "with torch.device('meta'):\n",
        "    meta_model = Net()\n",
        "    meta_model.load_state_dict(state_dict['model_state_dict'], assign=True)\n",
        "\n",
        "    optimizer = optim.SGD(meta_model.parameters(), lr=0.001, momentum=0.9)\n",
        "    optimizer.load_state_dict(state_dict['optimizer_state_dict'])\n",
        "\n",
        "    epoch = state_dict['epoch']\n",
        "    loss = state_dict['loss']\n",
        "\n",
        "meta_model"
      ],
      "metadata": {
        "colab": {
          "base_uri": "https://localhost:8080/"
        },
        "id": "fAwe9MIaxspz",
        "outputId": "b975f304-703a-4bc3-9ac8-a00876d6c04c"
      },
      "execution_count": 14,
      "outputs": [
        {
          "output_type": "execute_result",
          "data": {
            "text/plain": [
              "Net(\n",
              "  (conv1): Conv2d(3, 6, kernel_size=(5, 5), stride=(1, 1))\n",
              "  (pool): MaxPool2d(kernel_size=2, stride=2, padding=0, dilation=1, ceil_mode=False)\n",
              "  (conv2): Conv2d(6, 16, kernel_size=(5, 5), stride=(1, 1))\n",
              "  (fc1): Linear(in_features=400, out_features=120, bias=True)\n",
              "  (fc2): Linear(in_features=120, out_features=84, bias=True)\n",
              "  (fc3): Linear(in_features=84, out_features=10, bias=True)\n",
              ")"
            ]
          },
          "metadata": {},
          "execution_count": 14
        }
      ]
    },
    {
      "cell_type": "code",
      "source": [],
      "metadata": {
        "id": "_goGp2jFyRwD"
      },
      "execution_count": null,
      "outputs": []
    }
  ]
}