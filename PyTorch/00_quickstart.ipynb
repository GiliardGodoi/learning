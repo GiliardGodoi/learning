{
  "nbformat": 4,
  "nbformat_minor": 0,
  "metadata": {
    "colab": {
      "provenance": [],
      "machine_shape": "hm",
      "gpuType": "A100",
      "authorship_tag": "ABX9TyOfWxuVHRUPscUPnxKyWDKb",
      "include_colab_link": true
    },
    "kernelspec": {
      "name": "python3",
      "display_name": "Python 3"
    },
    "language_info": {
      "name": "python"
    },
    "accelerator": "GPU"
  },
  "cells": [
    {
      "cell_type": "markdown",
      "metadata": {
        "id": "view-in-github",
        "colab_type": "text"
      },
      "source": [
        "<a href=\"https://colab.research.google.com/github/GiliardGodoi/learning/blob/main/PyTorch/00_quickstart.ipynb\" target=\"_parent\"><img src=\"https://colab.research.google.com/assets/colab-badge.svg\" alt=\"Open In Colab\"/></a>"
      ]
    },
    {
      "cell_type": "markdown",
      "source": [
        "# Quickstart\n",
        "\n",
        "Referências:\n",
        "1. <https://pytorch.org/tutorials/beginner/basics/quickstart_tutorial.html>\n",
        "2. <https://pytorch.org/tutorials/beginner/basics/data_tutorial.html>"
      ],
      "metadata": {
        "id": "0lUHHtqWvvCQ"
      }
    },
    {
      "cell_type": "code",
      "source": [
        "from matplotlib import pyplot as plt"
      ],
      "metadata": {
        "id": "Z8ak07viwCgE"
      },
      "execution_count": 4,
      "outputs": []
    },
    {
      "cell_type": "code",
      "execution_count": 2,
      "metadata": {
        "id": "ljMtp6H_tnbj"
      },
      "outputs": [],
      "source": [
        "import torch\n",
        "from torch import nn\n",
        "from torch.utils.data import DataLoader\n",
        "from torchvision import datasets\n",
        "from torchvision.transforms import ToTensor"
      ]
    },
    {
      "cell_type": "code",
      "source": [
        "training_data = datasets.FashionMNIST(\n",
        "    root='data',\n",
        "    train=True,\n",
        "    download=True,\n",
        "    transform=ToTensor()\n",
        ")\n",
        "\n",
        "test_data = datasets.FashionMNIST(\n",
        "    root='data',\n",
        "    train=False,\n",
        "    download=True,\n",
        "    transform=ToTensor()\n",
        ")"
      ],
      "metadata": {
        "colab": {
          "base_uri": "https://localhost:8080/"
        },
        "id": "DvqwJEQYuLIx",
        "outputId": "a8d2eecb-e8ce-413c-cedc-cbf609607c13"
      },
      "execution_count": 3,
      "outputs": [
        {
          "output_type": "stream",
          "name": "stdout",
          "text": [
            "Downloading http://fashion-mnist.s3-website.eu-central-1.amazonaws.com/train-images-idx3-ubyte.gz\n",
            "Downloading http://fashion-mnist.s3-website.eu-central-1.amazonaws.com/train-images-idx3-ubyte.gz to data/FashionMNIST/raw/train-images-idx3-ubyte.gz\n"
          ]
        },
        {
          "output_type": "stream",
          "name": "stderr",
          "text": [
            "100%|██████████| 26421880/26421880 [00:03<00:00, 8382467.22it/s] \n"
          ]
        },
        {
          "output_type": "stream",
          "name": "stdout",
          "text": [
            "Extracting data/FashionMNIST/raw/train-images-idx3-ubyte.gz to data/FashionMNIST/raw\n",
            "\n",
            "Downloading http://fashion-mnist.s3-website.eu-central-1.amazonaws.com/train-labels-idx1-ubyte.gz\n",
            "Downloading http://fashion-mnist.s3-website.eu-central-1.amazonaws.com/train-labels-idx1-ubyte.gz to data/FashionMNIST/raw/train-labels-idx1-ubyte.gz\n"
          ]
        },
        {
          "output_type": "stream",
          "name": "stderr",
          "text": [
            "100%|██████████| 29515/29515 [00:00<00:00, 146588.34it/s]\n"
          ]
        },
        {
          "output_type": "stream",
          "name": "stdout",
          "text": [
            "Extracting data/FashionMNIST/raw/train-labels-idx1-ubyte.gz to data/FashionMNIST/raw\n",
            "\n",
            "Downloading http://fashion-mnist.s3-website.eu-central-1.amazonaws.com/t10k-images-idx3-ubyte.gz\n",
            "Downloading http://fashion-mnist.s3-website.eu-central-1.amazonaws.com/t10k-images-idx3-ubyte.gz to data/FashionMNIST/raw/t10k-images-idx3-ubyte.gz\n"
          ]
        },
        {
          "output_type": "stream",
          "name": "stderr",
          "text": [
            "100%|██████████| 4422102/4422102 [00:01<00:00, 2732048.98it/s]\n"
          ]
        },
        {
          "output_type": "stream",
          "name": "stdout",
          "text": [
            "Extracting data/FashionMNIST/raw/t10k-images-idx3-ubyte.gz to data/FashionMNIST/raw\n",
            "\n",
            "Downloading http://fashion-mnist.s3-website.eu-central-1.amazonaws.com/t10k-labels-idx1-ubyte.gz\n",
            "Downloading http://fashion-mnist.s3-website.eu-central-1.amazonaws.com/t10k-labels-idx1-ubyte.gz to data/FashionMNIST/raw/t10k-labels-idx1-ubyte.gz\n"
          ]
        },
        {
          "output_type": "stream",
          "name": "stderr",
          "text": [
            "100%|██████████| 5148/5148 [00:00<00:00, 9503643.04it/s]"
          ]
        },
        {
          "output_type": "stream",
          "name": "stdout",
          "text": [
            "Extracting data/FashionMNIST/raw/t10k-labels-idx1-ubyte.gz to data/FashionMNIST/raw\n",
            "\n"
          ]
        },
        {
          "output_type": "stream",
          "name": "stderr",
          "text": [
            "\n"
          ]
        }
      ]
    },
    {
      "cell_type": "code",
      "source": [
        "label_map = {\n",
        "    0: \"T-Shirt\",\n",
        "    1: \"Trouser\",\n",
        "    2: \"Pullover\",\n",
        "    3: \"Dress\",\n",
        "    4: \"Coat\",\n",
        "    5: \"Sandal\",\n",
        "    6: \"Shirt\",\n",
        "    7: \"Sneaker\",\n",
        "    8: \"Bag\",\n",
        "    9: \"Ankle Boot\",\n",
        "}\n",
        "\n",
        "fig = plt.figure(figsize=(8, 8))\n",
        "cols, rows = 3, 3\n",
        "\n",
        "for i in range(1, cols * rows + 1):\n",
        "    sample_idx = torch.randint(len(training_data), size=(1,)).item()\n",
        "    img, label = training_data[sample_idx]\n",
        "\n",
        "    fig.add_subplot(rows, cols, i)\n",
        "    plt.title(label_map[label])\n",
        "    plt.axis(\"off\")\n",
        "    plt.imshow(img.squeeze(), cmap=\"gray\")\n"
      ],
      "metadata": {
        "colab": {
          "base_uri": "https://localhost:8080/",
          "height": 675
        },
        "id": "ElrX4S61v7GG",
        "outputId": "eb9eaee2-a3fa-450b-ca99-4d9f4714f0eb"
      },
      "execution_count": 6,
      "outputs": [
        {
          "output_type": "display_data",
          "data": {
            "text/plain": [
              "<Figure size 800x800 with 9 Axes>"
            ],
            "image/png": "[encoded data removed]"
          },
          "metadata": {}
        }
      ]
    },
    {
      "cell_type": "code",
      "source": [
        "batch_size = 64\n",
        "\n",
        "train_dataloader = DataLoader(training_data, batch_size=batch_size)\n",
        "test_dataloader = DataLoader(test_data, batch_size=batch_size)\n",
        "\n",
        "for X, y in test_dataloader:\n",
        "    print(f\"Shape of X [N, C, H, W] : {X.shape}\")\n",
        "    print(f\"Shape of y: {y.shape} {y.dtype}\")\n",
        "    break"
      ],
      "metadata": {
        "colab": {
          "base_uri": "https://localhost:8080/"
        },
        "id": "G-8huH6cupQQ",
        "outputId": "433add02-e37e-4bda-d6be-5053e6369a1d"
      },
      "execution_count": 7,
      "outputs": [
        {
          "output_type": "stream",
          "name": "stdout",
          "text": [
            "Shape of X [N, C, H, W] : torch.Size([64, 1, 28, 28])\n",
            "Shape of y: torch.Size([64]) torch.int64\n"
          ]
        }
      ]
    },
    {
      "cell_type": "code",
      "source": [
        "device = (\n",
        "    'cuda'\n",
        "    if torch.cuda.is_available()\n",
        "    else 'mps'\n",
        "    if torch.backends.mps.is_available()\n",
        "    else 'cpu'\n",
        ")\n",
        "\n",
        "device"
      ],
      "metadata": {
        "colab": {
          "base_uri": "https://localhost:8080/",
          "height": 35
        },
        "id": "_CXPgUbixXeW",
        "outputId": "d4aa0978-92ff-4ecd-e321-d077a43073e1"
      },
      "execution_count": 8,
      "outputs": [
        {
          "output_type": "execute_result",
          "data": {
            "text/plain": [
              "'cuda'"
            ],
            "application/vnd.google.colaboratory.intrinsic+json": {
              "type": "string"
            }
          },
          "metadata": {},
          "execution_count": 8
        }
      ]
    },
    {
      "cell_type": "code",
      "source": [
        "class NeuralNetwork(nn.Module):\n",
        "\n",
        "    def __init__(self):\n",
        "        super().__init__()\n",
        "        self.flatten = nn.Flatten()\n",
        "        self.linear_relu_stack = nn.Sequential(\n",
        "            nn.Linear(28 * 28, 512),\n",
        "            nn.ReLU(),\n",
        "            nn.Linear(512, 512),\n",
        "            nn.ReLU(),\n",
        "            nn.Linear(512, 10)\n",
        "        )\n",
        "\n",
        "    def forward(self, x):\n",
        "        x = self.flatten(x)\n",
        "        logits = self.linear_relu_stack(x)\n",
        "\n",
        "        return logits"
      ],
      "metadata": {
        "id": "Iv6I4o1dyvvb"
      },
      "execution_count": 9,
      "outputs": []
    },
    {
      "cell_type": "code",
      "source": [
        "def train(dataloader, model, loss_fn, optimizer):\n",
        "    size = len(dataloader.dataset)\n",
        "    model.train()\n",
        "    for batch, (X, y) in enumerate(dataloader):\n",
        "        X, y = X.to(device), y.to(device)\n",
        "\n",
        "        # compute predictions error\n",
        "        predictions = model(X)\n",
        "        loss = loss_fn(predictions, y)\n",
        "\n",
        "        # backpropagation\n",
        "        loss.backward()\n",
        "        optimizer.step()\n",
        "        optimizer.zero_grad()\n",
        "\n",
        "        if batch % 100 == 0:\n",
        "            loss, current = loss.item(), batch * len(X) * len(X[0])\n",
        "            print(f\"loss: {loss:>7f}  [{current:>5d}/{size:>5d}]\")"
      ],
      "metadata": {
        "id": "Yte42JgEztds"
      },
      "execution_count": 10,
      "outputs": []
    },
    {
      "cell_type": "code",
      "source": [
        "def test(dataloader, model, loss_fn):\n",
        "    size = len(dataloader.dataset)\n",
        "    num_batches = len(dataloader)\n",
        "\n",
        "    model.eval()\n",
        "    test_loss, correct = 0, 0\n",
        "    with torch.no_grad():\n",
        "        for X, y in dataloader:\n",
        "            X, y = X.to(device), y.to(device)\n",
        "            predictions = model(X)\n",
        "            test_loss += loss_fn(predictions, y).item()\n",
        "            correct += (predictions.argmax(1) == y).type(torch.float).sum().item()\n",
        "\n",
        "    test_loss /= num_batches\n",
        "    correct /= size\n",
        "    print(f\"Test Error: \\n Accuracy: {(100 * correct):>0.1f}%, Avg loss: {test_loss:>8f}\\n\")"
      ],
      "metadata": {
        "id": "XV1Vb9x00wJV"
      },
      "execution_count": 11,
      "outputs": []
    },
    {
      "cell_type": "code",
      "source": [
        "model = NeuralNetwork().to(device)\n",
        "loss_fn = nn.CrossEntropyLoss()\n",
        "optimizer = torch.optim.SGD(model.parameters(), lr=1e-3)\n",
        "\n",
        "epochs = 10\n",
        "\n",
        "for t in range(epochs):\n",
        "    print(f\"Epoch {t + 1}\\n-------------------------------\")\n",
        "    train(train_dataloader, model, loss_fn, optimizer)\n",
        "    test(test_dataloader, model, loss_fn)\n",
        "\n",
        "print(\"Done!\")"
      ],
      "metadata": {
        "colab": {
          "base_uri": "https://localhost:8080/"
        },
        "id": "RQl6HIfj1gKJ",
        "outputId": "5e8987b3-5cbd-45a9-bd88-64be4836cbbd"
      },
      "execution_count": 13,
      "outputs": [
        {
          "output_type": "stream",
          "name": "stdout",
          "text": [
            "Epoch 1\n",
            "-------------------------------\n",
            "loss: 2.297913  [    0/60000]\n",
            "loss: 2.281031  [ 6400/60000]\n",
            "loss: 2.256519  [12800/60000]\n",
            "loss: 2.255820  [19200/60000]\n",
            "loss: 2.235953  [25600/60000]\n",
            "loss: 2.222473  [32000/60000]\n",
            "loss: 2.220469  [38400/60000]\n",
            "loss: 2.196403  [44800/60000]\n",
            "loss: 2.191254  [51200/60000]\n",
            "loss: 2.148929  [57600/60000]\n",
            "Test Error: \n",
            " Accuracy: 50.4%, Avg loss: 2.147611\n",
            "\n",
            "Epoch 2\n",
            "-------------------------------\n",
            "loss: 2.164251  [    0/60000]\n",
            "loss: 2.150733  [ 6400/60000]\n",
            "loss: 2.095883  [12800/60000]\n",
            "loss: 2.101682  [19200/60000]\n",
            "loss: 2.051469  [25600/60000]\n",
            "loss: 2.009947  [32000/60000]\n",
            "loss: 2.014291  [38400/60000]\n",
            "loss: 1.958027  [44800/60000]\n",
            "loss: 1.951885  [51200/60000]\n",
            "loss: 1.857735  [57600/60000]\n",
            "Test Error: \n",
            " Accuracy: 58.2%, Avg loss: 1.874761\n",
            "\n",
            "Epoch 3\n",
            "-------------------------------\n",
            "loss: 1.915118  [    0/60000]\n",
            "loss: 1.883640  [ 6400/60000]\n",
            "loss: 1.778267  [12800/60000]\n",
            "loss: 1.789006  [19200/60000]\n",
            "loss: 1.693767  [25600/60000]\n",
            "loss: 1.659314  [32000/60000]\n",
            "loss: 1.648050  [38400/60000]\n",
            "loss: 1.580509  [44800/60000]\n",
            "loss: 1.589444  [51200/60000]\n",
            "loss: 1.465422  [57600/60000]\n",
            "Test Error: \n",
            " Accuracy: 61.9%, Avg loss: 1.500891\n",
            "\n",
            "Epoch 4\n",
            "-------------------------------\n",
            "loss: 1.576049  [    0/60000]\n",
            "loss: 1.538499  [ 6400/60000]\n",
            "loss: 1.398341  [12800/60000]\n",
            "loss: 1.442348  [19200/60000]\n",
            "loss: 1.340450  [25600/60000]\n",
            "loss: 1.344642  [32000/60000]\n",
            "loss: 1.338517  [38400/60000]\n",
            "loss: 1.282283  [44800/60000]\n",
            "loss: 1.306663  [51200/60000]\n",
            "loss: 1.204913  [57600/60000]\n",
            "Test Error: \n",
            " Accuracy: 63.9%, Avg loss: 1.232882\n",
            "\n",
            "Epoch 5\n",
            "-------------------------------\n",
            "loss: 1.314492  [    0/60000]\n",
            "loss: 1.297255  [ 6400/60000]\n",
            "loss: 1.133422  [12800/60000]\n",
            "loss: 1.223514  [19200/60000]\n",
            "loss: 1.110666  [25600/60000]\n",
            "loss: 1.141383  [32000/60000]\n",
            "loss: 1.152293  [38400/60000]\n",
            "loss: 1.098661  [44800/60000]\n",
            "loss: 1.129888  [51200/60000]\n",
            "loss: 1.054955  [57600/60000]\n",
            "Test Error: \n",
            " Accuracy: 65.4%, Avg loss: 1.070272\n",
            "\n",
            "Epoch 6\n",
            "-------------------------------\n",
            "loss: 1.141526  [    0/60000]\n",
            "loss: 1.148715  [ 6400/60000]\n",
            "loss: 0.963400  [12800/60000]\n",
            "loss: 1.090986  [19200/60000]\n",
            "loss: 0.972920  [25600/60000]\n",
            "loss: 1.009184  [32000/60000]\n",
            "loss: 1.038833  [38400/60000]\n",
            "loss: 0.985372  [44800/60000]\n",
            "loss: 1.016397  [51200/60000]\n",
            "loss: 0.962269  [57600/60000]\n",
            "Test Error: \n",
            " Accuracy: 66.7%, Avg loss: 0.967737\n",
            "\n",
            "Epoch 7\n",
            "-------------------------------\n",
            "loss: 1.023441  [    0/60000]\n",
            "loss: 1.053830  [ 6400/60000]\n",
            "loss: 0.849774  [12800/60000]\n",
            "loss: 1.004231  [19200/60000]\n",
            "loss: 0.888644  [25600/60000]\n",
            "loss: 0.917551  [32000/60000]\n",
            "loss: 0.965357  [38400/60000]\n",
            "loss: 0.913072  [44800/60000]\n",
            "loss: 0.938792  [51200/60000]\n",
            "loss: 0.900501  [57600/60000]\n",
            "Test Error: \n",
            " Accuracy: 68.1%, Avg loss: 0.898504\n",
            "\n",
            "Epoch 8\n",
            "-------------------------------\n",
            "loss: 0.937584  [    0/60000]\n",
            "loss: 0.987961  [ 6400/60000]\n",
            "loss: 0.769271  [12800/60000]\n",
            "loss: 0.942812  [19200/60000]\n",
            "loss: 0.833132  [25600/60000]\n",
            "loss: 0.850651  [32000/60000]\n",
            "loss: 0.913561  [38400/60000]\n",
            "loss: 0.864555  [44800/60000]\n",
            "loss: 0.883384  [51200/60000]\n",
            "loss: 0.855966  [57600/60000]\n",
            "Test Error: \n",
            " Accuracy: 69.6%, Avg loss: 0.848619\n",
            "\n",
            "Epoch 9\n",
            "-------------------------------\n",
            "loss: 0.871607  [    0/60000]\n",
            "loss: 0.938199  [ 6400/60000]\n",
            "loss: 0.709439  [12800/60000]\n",
            "loss: 0.896526  [19200/60000]\n",
            "loss: 0.793644  [25600/60000]\n",
            "loss: 0.800183  [32000/60000]\n",
            "loss: 0.874101  [38400/60000]\n",
            "loss: 0.830344  [44800/60000]\n",
            "loss: 0.841960  [51200/60000]\n",
            "loss: 0.821727  [57600/60000]\n",
            "Test Error: \n",
            " Accuracy: 70.7%, Avg loss: 0.810603\n",
            "\n",
            "Epoch 10\n",
            "-------------------------------\n",
            "loss: 0.818724  [    0/60000]\n",
            "loss: 0.897882  [ 6400/60000]\n",
            "loss: 0.663107  [12800/60000]\n",
            "loss: 0.860281  [19200/60000]\n",
            "loss: 0.763904  [25600/60000]\n",
            "loss: 0.761246  [32000/60000]\n",
            "loss: 0.842093  [38400/60000]\n",
            "loss: 0.804719  [44800/60000]\n",
            "loss: 0.809785  [51200/60000]\n",
            "loss: 0.793712  [57600/60000]\n",
            "Test Error: \n",
            " Accuracy: 71.8%, Avg loss: 0.780134\n",
            "\n",
            "Done!\n"
          ]
        }
      ]
    },
    {
      "cell_type": "code",
      "source": [
        "torch.save(model.state_dict(), 'model.pth')"
      ],
      "metadata": {
        "id": "7bWtKuIk103c"
      },
      "execution_count": 14,
      "outputs": []
    },
    {
      "cell_type": "code",
      "source": [
        "model2 = NeuralNetwork().to(device)\n",
        "model2.load_state_dict(torch.load('model.pth'))"
      ],
      "metadata": {
        "colab": {
          "base_uri": "https://localhost:8080/"
        },
        "id": "g2QgVXBF2SSb",
        "outputId": "c7ac4b72-6a16-4f43-bf5c-fb4a6698e640"
      },
      "execution_count": 15,
      "outputs": [
        {
          "output_type": "execute_result",
          "data": {
            "text/plain": [
              "<All keys matched successfully>"
            ]
          },
          "metadata": {},
          "execution_count": 15
        }
      ]
    },
    {
      "cell_type": "code",
      "source": [
        "classes = [v for v in label_map.values() ]\n",
        "print(classes)"
      ],
      "metadata": {
        "colab": {
          "base_uri": "https://localhost:8080/"
        },
        "id": "vPLaTgC93S8-",
        "outputId": "b779454c-8a53-4080-e584-2a15e682dc67"
      },
      "execution_count": 20,
      "outputs": [
        {
          "output_type": "stream",
          "name": "stdout",
          "text": [
            "['T-Shirt', 'Trouser', 'Pullover', 'Dress', 'Coat', 'Sandal', 'Shirt', 'Sneaker', 'Bag', 'Ankle Boot']\n"
          ]
        }
      ]
    },
    {
      "cell_type": "code",
      "source": [
        "index = 89 # @param {type : 'number'}\n",
        "\n",
        "model2.eval()\n",
        "x, y = test_data[index][0], test_data[index][1]\n",
        "with torch.no_grad():\n",
        "    x = x.to(device)\n",
        "    pred = model2(x)\n",
        "    predicted, actual = classes[pred[0].argmax(0)], classes[y]\n",
        "\n",
        "    plt.title(f'Predicted: \"{predicted}\", Actual: \"{actual}\"')\n",
        "    plt.imshow(x.cpu().squeeze(), cmap='gray')\n",
        "    plt.axis('off')"
      ],
      "metadata": {
        "colab": {
          "base_uri": "https://localhost:8080/",
          "height": 428
        },
        "id": "kQY4-1mx2eR9",
        "outputId": "fb9c4608-6be3-48ad-d9d0-682ffb7e878d"
      },
      "execution_count": 25,
      "outputs": [
        {
          "output_type": "display_data",
          "data": {
            "text/plain": [
              "<Figure size 640x480 with 1 Axes>"
            ],
            "image/png": "[encoded data removed]"
          },
          "metadata": {}
        }
      ]
    },
    {
      "cell_type": "code",
      "source": [],
      "metadata": {
        "id": "sONyzdUN2q77"
      },
      "execution_count": null,
      "outputs": []
    }
  ]
}